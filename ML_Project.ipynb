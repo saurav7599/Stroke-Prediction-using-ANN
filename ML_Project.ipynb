{
  "nbformat": 4,
  "nbformat_minor": 0,
  "metadata": {
    "colab": {
      "name": "ML_Project.ipynb",
      "provenance": [],
      "toc_visible": true,
      "authorship_tag": "ABX9TyPiyDpvpUnxjAkLqs/YXgd5",
      "include_colab_link": true
    },
    "kernelspec": {
      "name": "python3",
      "display_name": "Python 3"
    },
    "language_info": {
      "name": "python"
    },
    "accelerator": "GPU"
  },
  "cells": [
    {
      "cell_type": "markdown",
      "metadata": {
        "id": "view-in-github",
        "colab_type": "text"
      },
      "source": [
        "<a href=\"https://colab.research.google.com/github/saurav7599/Stroke-Prediction-using-ANN/blob/main/ML_Project.ipynb\" target=\"_parent\"><img src=\"https://colab.research.google.com/assets/colab-badge.svg\" alt=\"Open In Colab\"/></a>"
      ]
    },
    {
      "cell_type": "markdown",
      "metadata": {
        "id": "z3vzabJ0eh3E"
      },
      "source": [
        "**Importing necessary Modules and Libraries**\n"
      ]
    },
    {
      "cell_type": "code",
      "metadata": {
        "id": "ODXkComvfEyy"
      },
      "source": [
        "import numpy as np\n",
        "import pandas as pd\n",
        "import matplotlib.pyplot as pt"
      ],
      "execution_count": null,
      "outputs": []
    },
    {
      "cell_type": "markdown",
      "metadata": {
        "id": "cWWNfdyre6zo"
      },
      "source": [
        "**Reading the data**"
      ]
    },
    {
      "cell_type": "code",
      "metadata": {
        "id": "T62lPMcJu7fh"
      },
      "source": [
        "data=pd.read_csv(\"healthcare-dataset-stroke-data.csv\")"
      ],
      "execution_count": null,
      "outputs": []
    },
    {
      "cell_type": "code",
      "metadata": {
        "colab": {
          "base_uri": "https://localhost:8080/",
          "height": 363
        },
        "id": "haRpPhS3whdX",
        "outputId": "2282a6e1-1d31-4079-bff1-09403845f437"
      },
      "source": [
        "data.head(10)"
      ],
      "execution_count": null,
      "outputs": [
        {
          "output_type": "execute_result",
          "data": {
            "text/html": [
              "<div>\n",
              "<style scoped>\n",
              "    .dataframe tbody tr th:only-of-type {\n",
              "        vertical-align: middle;\n",
              "    }\n",
              "\n",
              "    .dataframe tbody tr th {\n",
              "        vertical-align: top;\n",
              "    }\n",
              "\n",
              "    .dataframe thead th {\n",
              "        text-align: right;\n",
              "    }\n",
              "</style>\n",
              "<table border=\"1\" class=\"dataframe\">\n",
              "  <thead>\n",
              "    <tr style=\"text-align: right;\">\n",
              "      <th></th>\n",
              "      <th>id</th>\n",
              "      <th>gender</th>\n",
              "      <th>age</th>\n",
              "      <th>hypertension</th>\n",
              "      <th>heart_disease</th>\n",
              "      <th>ever_married</th>\n",
              "      <th>work_type</th>\n",
              "      <th>Residence_type</th>\n",
              "      <th>avg_glucose_level</th>\n",
              "      <th>bmi</th>\n",
              "      <th>smoking_status</th>\n",
              "      <th>stroke</th>\n",
              "    </tr>\n",
              "  </thead>\n",
              "  <tbody>\n",
              "    <tr>\n",
              "      <th>0</th>\n",
              "      <td>9046</td>\n",
              "      <td>Male</td>\n",
              "      <td>67.0</td>\n",
              "      <td>0</td>\n",
              "      <td>1</td>\n",
              "      <td>Yes</td>\n",
              "      <td>Private</td>\n",
              "      <td>Urban</td>\n",
              "      <td>228.69</td>\n",
              "      <td>36.6</td>\n",
              "      <td>formerly smoked</td>\n",
              "      <td>1</td>\n",
              "    </tr>\n",
              "    <tr>\n",
              "      <th>1</th>\n",
              "      <td>51676</td>\n",
              "      <td>Female</td>\n",
              "      <td>61.0</td>\n",
              "      <td>0</td>\n",
              "      <td>0</td>\n",
              "      <td>Yes</td>\n",
              "      <td>Self-employed</td>\n",
              "      <td>Rural</td>\n",
              "      <td>202.21</td>\n",
              "      <td>NaN</td>\n",
              "      <td>never smoked</td>\n",
              "      <td>1</td>\n",
              "    </tr>\n",
              "    <tr>\n",
              "      <th>2</th>\n",
              "      <td>31112</td>\n",
              "      <td>Male</td>\n",
              "      <td>80.0</td>\n",
              "      <td>0</td>\n",
              "      <td>1</td>\n",
              "      <td>Yes</td>\n",
              "      <td>Private</td>\n",
              "      <td>Rural</td>\n",
              "      <td>105.92</td>\n",
              "      <td>32.5</td>\n",
              "      <td>never smoked</td>\n",
              "      <td>1</td>\n",
              "    </tr>\n",
              "    <tr>\n",
              "      <th>3</th>\n",
              "      <td>60182</td>\n",
              "      <td>Female</td>\n",
              "      <td>49.0</td>\n",
              "      <td>0</td>\n",
              "      <td>0</td>\n",
              "      <td>Yes</td>\n",
              "      <td>Private</td>\n",
              "      <td>Urban</td>\n",
              "      <td>171.23</td>\n",
              "      <td>34.4</td>\n",
              "      <td>smokes</td>\n",
              "      <td>1</td>\n",
              "    </tr>\n",
              "    <tr>\n",
              "      <th>4</th>\n",
              "      <td>1665</td>\n",
              "      <td>Female</td>\n",
              "      <td>79.0</td>\n",
              "      <td>1</td>\n",
              "      <td>0</td>\n",
              "      <td>Yes</td>\n",
              "      <td>Self-employed</td>\n",
              "      <td>Rural</td>\n",
              "      <td>174.12</td>\n",
              "      <td>24.0</td>\n",
              "      <td>never smoked</td>\n",
              "      <td>1</td>\n",
              "    </tr>\n",
              "    <tr>\n",
              "      <th>5</th>\n",
              "      <td>56669</td>\n",
              "      <td>Male</td>\n",
              "      <td>81.0</td>\n",
              "      <td>0</td>\n",
              "      <td>0</td>\n",
              "      <td>Yes</td>\n",
              "      <td>Private</td>\n",
              "      <td>Urban</td>\n",
              "      <td>186.21</td>\n",
              "      <td>29.0</td>\n",
              "      <td>formerly smoked</td>\n",
              "      <td>1</td>\n",
              "    </tr>\n",
              "    <tr>\n",
              "      <th>6</th>\n",
              "      <td>53882</td>\n",
              "      <td>Male</td>\n",
              "      <td>74.0</td>\n",
              "      <td>1</td>\n",
              "      <td>1</td>\n",
              "      <td>Yes</td>\n",
              "      <td>Private</td>\n",
              "      <td>Rural</td>\n",
              "      <td>70.09</td>\n",
              "      <td>27.4</td>\n",
              "      <td>never smoked</td>\n",
              "      <td>1</td>\n",
              "    </tr>\n",
              "    <tr>\n",
              "      <th>7</th>\n",
              "      <td>10434</td>\n",
              "      <td>Female</td>\n",
              "      <td>69.0</td>\n",
              "      <td>0</td>\n",
              "      <td>0</td>\n",
              "      <td>No</td>\n",
              "      <td>Private</td>\n",
              "      <td>Urban</td>\n",
              "      <td>94.39</td>\n",
              "      <td>22.8</td>\n",
              "      <td>never smoked</td>\n",
              "      <td>1</td>\n",
              "    </tr>\n",
              "    <tr>\n",
              "      <th>8</th>\n",
              "      <td>27419</td>\n",
              "      <td>Female</td>\n",
              "      <td>59.0</td>\n",
              "      <td>0</td>\n",
              "      <td>0</td>\n",
              "      <td>Yes</td>\n",
              "      <td>Private</td>\n",
              "      <td>Rural</td>\n",
              "      <td>76.15</td>\n",
              "      <td>NaN</td>\n",
              "      <td>Unknown</td>\n",
              "      <td>1</td>\n",
              "    </tr>\n",
              "    <tr>\n",
              "      <th>9</th>\n",
              "      <td>60491</td>\n",
              "      <td>Female</td>\n",
              "      <td>78.0</td>\n",
              "      <td>0</td>\n",
              "      <td>0</td>\n",
              "      <td>Yes</td>\n",
              "      <td>Private</td>\n",
              "      <td>Urban</td>\n",
              "      <td>58.57</td>\n",
              "      <td>24.2</td>\n",
              "      <td>Unknown</td>\n",
              "      <td>1</td>\n",
              "    </tr>\n",
              "  </tbody>\n",
              "</table>\n",
              "</div>"
            ],
            "text/plain": [
              "      id  gender   age  ...   bmi   smoking_status stroke\n",
              "0   9046    Male  67.0  ...  36.6  formerly smoked      1\n",
              "1  51676  Female  61.0  ...   NaN     never smoked      1\n",
              "2  31112    Male  80.0  ...  32.5     never smoked      1\n",
              "3  60182  Female  49.0  ...  34.4           smokes      1\n",
              "4   1665  Female  79.0  ...  24.0     never smoked      1\n",
              "5  56669    Male  81.0  ...  29.0  formerly smoked      1\n",
              "6  53882    Male  74.0  ...  27.4     never smoked      1\n",
              "7  10434  Female  69.0  ...  22.8     never smoked      1\n",
              "8  27419  Female  59.0  ...   NaN          Unknown      1\n",
              "9  60491  Female  78.0  ...  24.2          Unknown      1\n",
              "\n",
              "[10 rows x 12 columns]"
            ]
          },
          "metadata": {
            "tags": []
          },
          "execution_count": 31
        }
      ]
    },
    {
      "cell_type": "code",
      "metadata": {
        "colab": {
          "base_uri": "https://localhost:8080/"
        },
        "id": "AVbbogeVv7av",
        "outputId": "e96db564-ce85-4ad7-ecc4-5936fd1405c1"
      },
      "source": [
        "data.info()"
      ],
      "execution_count": null,
      "outputs": [
        {
          "output_type": "stream",
          "text": [
            "<class 'pandas.core.frame.DataFrame'>\n",
            "RangeIndex: 5110 entries, 0 to 5109\n",
            "Data columns (total 12 columns):\n",
            " #   Column             Non-Null Count  Dtype  \n",
            "---  ------             --------------  -----  \n",
            " 0   id                 5110 non-null   int64  \n",
            " 1   gender             5110 non-null   object \n",
            " 2   age                5110 non-null   float64\n",
            " 3   hypertension       5110 non-null   int64  \n",
            " 4   heart_disease      5110 non-null   int64  \n",
            " 5   ever_married       5110 non-null   object \n",
            " 6   work_type          5110 non-null   object \n",
            " 7   Residence_type     5110 non-null   object \n",
            " 8   avg_glucose_level  5110 non-null   float64\n",
            " 9   bmi                4909 non-null   float64\n",
            " 10  smoking_status     5110 non-null   object \n",
            " 11  stroke             5110 non-null   int64  \n",
            "dtypes: float64(3), int64(4), object(5)\n",
            "memory usage: 479.2+ KB\n"
          ],
          "name": "stdout"
        }
      ]
    },
    {
      "cell_type": "markdown",
      "metadata": {
        "id": "j9_-BndcfGWv"
      },
      "source": [
        "**Data Analysing**"
      ]
    },
    {
      "cell_type": "code",
      "metadata": {
        "id": "KvV9MiUhwDGX"
      },
      "source": [
        "new_data=data.drop(columns=['id'])"
      ],
      "execution_count": null,
      "outputs": []
    },
    {
      "cell_type": "code",
      "metadata": {
        "colab": {
          "base_uri": "https://localhost:8080/",
          "height": 237
        },
        "id": "8tN2SPtQjCav",
        "outputId": "37fad63c-764d-4a22-ebee-a96774b418b1"
      },
      "source": [
        "new_data.head(6)"
      ],
      "execution_count": null,
      "outputs": [
        {
          "output_type": "execute_result",
          "data": {
            "text/html": [
              "<div>\n",
              "<style scoped>\n",
              "    .dataframe tbody tr th:only-of-type {\n",
              "        vertical-align: middle;\n",
              "    }\n",
              "\n",
              "    .dataframe tbody tr th {\n",
              "        vertical-align: top;\n",
              "    }\n",
              "\n",
              "    .dataframe thead th {\n",
              "        text-align: right;\n",
              "    }\n",
              "</style>\n",
              "<table border=\"1\" class=\"dataframe\">\n",
              "  <thead>\n",
              "    <tr style=\"text-align: right;\">\n",
              "      <th></th>\n",
              "      <th>gender</th>\n",
              "      <th>age</th>\n",
              "      <th>hypertension</th>\n",
              "      <th>heart_disease</th>\n",
              "      <th>ever_married</th>\n",
              "      <th>work_type</th>\n",
              "      <th>Residence_type</th>\n",
              "      <th>avg_glucose_level</th>\n",
              "      <th>bmi</th>\n",
              "      <th>smoking_status</th>\n",
              "      <th>stroke</th>\n",
              "    </tr>\n",
              "  </thead>\n",
              "  <tbody>\n",
              "    <tr>\n",
              "      <th>0</th>\n",
              "      <td>Male</td>\n",
              "      <td>67.0</td>\n",
              "      <td>0</td>\n",
              "      <td>1</td>\n",
              "      <td>Yes</td>\n",
              "      <td>Private</td>\n",
              "      <td>Urban</td>\n",
              "      <td>228.69</td>\n",
              "      <td>36.6</td>\n",
              "      <td>formerly smoked</td>\n",
              "      <td>1</td>\n",
              "    </tr>\n",
              "    <tr>\n",
              "      <th>1</th>\n",
              "      <td>Female</td>\n",
              "      <td>61.0</td>\n",
              "      <td>0</td>\n",
              "      <td>0</td>\n",
              "      <td>Yes</td>\n",
              "      <td>Self-employed</td>\n",
              "      <td>Rural</td>\n",
              "      <td>202.21</td>\n",
              "      <td>NaN</td>\n",
              "      <td>never smoked</td>\n",
              "      <td>1</td>\n",
              "    </tr>\n",
              "    <tr>\n",
              "      <th>2</th>\n",
              "      <td>Male</td>\n",
              "      <td>80.0</td>\n",
              "      <td>0</td>\n",
              "      <td>1</td>\n",
              "      <td>Yes</td>\n",
              "      <td>Private</td>\n",
              "      <td>Rural</td>\n",
              "      <td>105.92</td>\n",
              "      <td>32.5</td>\n",
              "      <td>never smoked</td>\n",
              "      <td>1</td>\n",
              "    </tr>\n",
              "    <tr>\n",
              "      <th>3</th>\n",
              "      <td>Female</td>\n",
              "      <td>49.0</td>\n",
              "      <td>0</td>\n",
              "      <td>0</td>\n",
              "      <td>Yes</td>\n",
              "      <td>Private</td>\n",
              "      <td>Urban</td>\n",
              "      <td>171.23</td>\n",
              "      <td>34.4</td>\n",
              "      <td>smokes</td>\n",
              "      <td>1</td>\n",
              "    </tr>\n",
              "    <tr>\n",
              "      <th>4</th>\n",
              "      <td>Female</td>\n",
              "      <td>79.0</td>\n",
              "      <td>1</td>\n",
              "      <td>0</td>\n",
              "      <td>Yes</td>\n",
              "      <td>Self-employed</td>\n",
              "      <td>Rural</td>\n",
              "      <td>174.12</td>\n",
              "      <td>24.0</td>\n",
              "      <td>never smoked</td>\n",
              "      <td>1</td>\n",
              "    </tr>\n",
              "    <tr>\n",
              "      <th>5</th>\n",
              "      <td>Male</td>\n",
              "      <td>81.0</td>\n",
              "      <td>0</td>\n",
              "      <td>0</td>\n",
              "      <td>Yes</td>\n",
              "      <td>Private</td>\n",
              "      <td>Urban</td>\n",
              "      <td>186.21</td>\n",
              "      <td>29.0</td>\n",
              "      <td>formerly smoked</td>\n",
              "      <td>1</td>\n",
              "    </tr>\n",
              "  </tbody>\n",
              "</table>\n",
              "</div>"
            ],
            "text/plain": [
              "   gender   age  hypertension  ...   bmi   smoking_status stroke\n",
              "0    Male  67.0             0  ...  36.6  formerly smoked      1\n",
              "1  Female  61.0             0  ...   NaN     never smoked      1\n",
              "2    Male  80.0             0  ...  32.5     never smoked      1\n",
              "3  Female  49.0             0  ...  34.4           smokes      1\n",
              "4  Female  79.0             1  ...  24.0     never smoked      1\n",
              "5    Male  81.0             0  ...  29.0  formerly smoked      1\n",
              "\n",
              "[6 rows x 11 columns]"
            ]
          },
          "metadata": {
            "tags": []
          },
          "execution_count": 34
        }
      ]
    },
    {
      "cell_type": "code",
      "metadata": {
        "id": "P74hAU26xaPj"
      },
      "source": [
        "def bar_plot(variable):\n",
        "\n",
        "    var = new_data[variable]\n",
        "    varValue = var.value_counts()\n",
        "    \n",
        "    pt.figure(figsize = (9,3))\n",
        "    pt.bar(varValue.index, varValue)\n",
        "    pt.xticks(varValue.index, varValue.index.values)\n",
        "    pt.ylabel(\"Frequency\")\n",
        "    pt.title(variable)\n",
        "    pt.show()\n",
        "    print(\"{}:\\n{}\".format(variable,varValue))"
      ],
      "execution_count": null,
      "outputs": []
    },
    {
      "cell_type": "code",
      "metadata": {
        "colab": {
          "base_uri": "https://localhost:8080/"
        },
        "id": "CiANNu_6xk85",
        "outputId": "44d3b883-99bf-4461-9871-0b789ec7668e"
      },
      "source": [
        "categorical = (new_data.dtypes == \"object\")\n",
        "categorical_list = list(categorical[categorical].index)\n",
        "\n",
        "print(\"Categorical variables:\")\n",
        "print(categorical_list)"
      ],
      "execution_count": null,
      "outputs": [
        {
          "output_type": "stream",
          "text": [
            "Categorical variables:\n",
            "['gender', 'ever_married', 'work_type', 'Residence_type', 'smoking_status']\n"
          ],
          "name": "stdout"
        }
      ]
    },
    {
      "cell_type": "code",
      "metadata": {
        "colab": {
          "base_uri": "https://localhost:8080/",
          "height": 1000
        },
        "id": "IWEjMNwnyBKZ",
        "outputId": "dd8b6a52-0d6d-4c82-94c8-02abe7bc8426"
      },
      "source": [
        "categorical_variables = ['gender', 'ever_married', 'work_type', 'Residence_type', 'smoking_status']\n",
        "for c in categorical_variables:\n",
        "    bar_plot(c)"
      ],
      "execution_count": null,
      "outputs": [
        {
          "output_type": "display_data",
          "data": {
            "image/png": "[encoded data removed]",
            "text/plain": [
              "<Figure size 648x216 with 1 Axes>"
            ]
          },
          "metadata": {
            "tags": [],
            "needs_background": "light"
          }
        },
        {
          "output_type": "stream",
          "text": [
            "gender:\n",
            "Female    2994\n",
            "Male      2115\n",
            "Other        1\n",
            "Name: gender, dtype: int64\n"
          ],
          "name": "stdout"
        },
        {
          "output_type": "display_data",
          "data": {
            "image/png": "[encoded data removed]",
            "text/plain": [
              "<Figure size 648x216 with 1 Axes>"
            ]
          },
          "metadata": {
            "tags": [],
            "needs_background": "light"
          }
        },
        {
          "output_type": "stream",
          "text": [
            "ever_married:\n",
            "Yes    3353\n",
            "No     1757\n",
            "Name: ever_married, dtype: int64\n"
          ],
          "name": "stdout"
        },
        {
          "output_type": "display_data",
          "data": {
            "image/png": "[encoded data removed]",
            "text/plain": [
              "<Figure size 648x216 with 1 Axes>"
            ]
          },
          "metadata": {
            "tags": [],
            "needs_background": "light"
          }
        },
        {
          "output_type": "stream",
          "text": [
            "work_type:\n",
            "Private          2925\n",
            "Self-employed     819\n",
            "children          687\n",
            "Govt_job          657\n",
            "Never_worked       22\n",
            "Name: work_type, dtype: int64\n"
          ],
          "name": "stdout"
        },
        {
          "output_type": "display_data",
          "data": {
            "image/png": "[encoded data removed]",
            "text/plain": [
              "<Figure size 648x216 with 1 Axes>"
            ]
          },
          "metadata": {
            "tags": [],
            "needs_background": "light"
          }
        },
        {
          "output_type": "stream",
          "text": [
            "Residence_type:\n",
            "Urban    2596\n",
            "Rural    2514\n",
            "Name: Residence_type, dtype: int64\n"
          ],
          "name": "stdout"
        },
        {
          "output_type": "display_data",
          "data": {
            "image/png": "[encoded data removed]",
            "text/plain": [
              "<Figure size 648x216 with 1 Axes>"
            ]
          },
          "metadata": {
            "tags": [],
            "needs_background": "light"
          }
        },
        {
          "output_type": "stream",
          "text": [
            "smoking_status:\n",
            "never smoked       1892\n",
            "Unknown            1544\n",
            "formerly smoked     885\n",
            "smokes              789\n",
            "Name: smoking_status, dtype: int64\n"
          ],
          "name": "stdout"
        }
      ]
    },
    {
      "cell_type": "code",
      "metadata": {
        "id": "g-mT0qbM1Vnm"
      },
      "source": [
        "def plot_hist(variable):\n",
        "    pt.figure(figsize = (9,3))\n",
        "    pt.hist(new_data[variable], bins = 50)\n",
        "    pt.xlabel(variable)\n",
        "    pt.ylabel(\"Frequency\")\n",
        "    pt.title(\"{} Distribution with Histogram\".format(variable))\n",
        "    pt.show()"
      ],
      "execution_count": null,
      "outputs": []
    },
    {
      "cell_type": "code",
      "metadata": {
        "colab": {
          "base_uri": "https://localhost:8080/"
        },
        "id": "08rXc-lw1DMI",
        "outputId": "67905a2c-3f04-4528-dc9d-608e9bb1c9ba"
      },
      "source": [
        "\n",
        "numerical_values = (new_data.dtypes == \"float64\")\n",
        "numerical_values_list = list(numerical_values[numerical_values].index)\n",
        "\n",
        "print(\"Numerical variables:\")\n",
        "print(numerical_values_list)\n",
        "\n"
      ],
      "execution_count": null,
      "outputs": [
        {
          "output_type": "stream",
          "text": [
            "Numerical variables:\n",
            "['age', 'avg_glucose_level', 'bmi']\n"
          ],
          "name": "stdout"
        }
      ]
    },
    {
      "cell_type": "code",
      "metadata": {
        "colab": {
          "base_uri": "https://localhost:8080/",
          "height": 690
        },
        "id": "UpvUWuEI1UrQ",
        "outputId": "d44c279b-7eaf-4035-d781-b9527b469997"
      },
      "source": [
        "numerical_variables = ['age', 'avg_glucose_level', 'bmi']\n",
        "for n in numerical_variables:\n",
        "    plot_hist(n)"
      ],
      "execution_count": null,
      "outputs": [
        {
          "output_type": "display_data",
          "data": {
            "image/png": "[encoded data removed]",
            "text/plain": [
              "<Figure size 648x216 with 1 Axes>"
            ]
          },
          "metadata": {
            "tags": [],
            "needs_background": "light"
          }
        },
        {
          "output_type": "display_data",
          "data": {
            "image/png": "[encoded data removed]",
            "text/plain": [
              "<Figure size 648x216 with 1 Axes>"
            ]
          },
          "metadata": {
            "tags": [],
            "needs_background": "light"
          }
        },
        {
          "output_type": "display_data",
          "data": {
            "image/png": "[encoded data removed]",
            "text/plain": [
              "<Figure size 648x216 with 1 Axes>"
            ]
          },
          "metadata": {
            "tags": [],
            "needs_background": "light"
          }
        }
      ]
    },
    {
      "cell_type": "markdown",
      "metadata": {
        "id": "UB1r3vX2cWBg"
      },
      "source": [
        "**Checking for NULL Values**"
      ]
    },
    {
      "cell_type": "code",
      "metadata": {
        "colab": {
          "base_uri": "https://localhost:8080/",
          "height": 49
        },
        "id": "t0Zh0nf24GmE",
        "outputId": "98eb5f2f-7992-49c6-b02f-5060e3d77081"
      },
      "source": [
        "new_data[new_data['gender'].isnull()]"
      ],
      "execution_count": null,
      "outputs": [
        {
          "output_type": "execute_result",
          "data": {
            "text/html": [
              "<div>\n",
              "<style scoped>\n",
              "    .dataframe tbody tr th:only-of-type {\n",
              "        vertical-align: middle;\n",
              "    }\n",
              "\n",
              "    .dataframe tbody tr th {\n",
              "        vertical-align: top;\n",
              "    }\n",
              "\n",
              "    .dataframe thead th {\n",
              "        text-align: right;\n",
              "    }\n",
              "</style>\n",
              "<table border=\"1\" class=\"dataframe\">\n",
              "  <thead>\n",
              "    <tr style=\"text-align: right;\">\n",
              "      <th></th>\n",
              "      <th>gender</th>\n",
              "      <th>age</th>\n",
              "      <th>hypertension</th>\n",
              "      <th>heart_disease</th>\n",
              "      <th>ever_married</th>\n",
              "      <th>work_type</th>\n",
              "      <th>Residence_type</th>\n",
              "      <th>avg_glucose_level</th>\n",
              "      <th>bmi</th>\n",
              "      <th>smoking_status</th>\n",
              "      <th>stroke</th>\n",
              "    </tr>\n",
              "  </thead>\n",
              "  <tbody>\n",
              "  </tbody>\n",
              "</table>\n",
              "</div>"
            ],
            "text/plain": [
              "Empty DataFrame\n",
              "Columns: [gender, age, hypertension, heart_disease, ever_married, work_type, Residence_type, avg_glucose_level, bmi, smoking_status, stroke]\n",
              "Index: []"
            ]
          },
          "metadata": {
            "tags": []
          },
          "execution_count": 41
        }
      ]
    },
    {
      "cell_type": "code",
      "metadata": {
        "colab": {
          "base_uri": "https://localhost:8080/",
          "height": 49
        },
        "id": "MEkj2VCT4NX2",
        "outputId": "6b338348-597c-477e-b850-9d7444c3d44b"
      },
      "source": [
        "new_data[new_data['age'].isnull()]"
      ],
      "execution_count": null,
      "outputs": [
        {
          "output_type": "execute_result",
          "data": {
            "text/html": [
              "<div>\n",
              "<style scoped>\n",
              "    .dataframe tbody tr th:only-of-type {\n",
              "        vertical-align: middle;\n",
              "    }\n",
              "\n",
              "    .dataframe tbody tr th {\n",
              "        vertical-align: top;\n",
              "    }\n",
              "\n",
              "    .dataframe thead th {\n",
              "        text-align: right;\n",
              "    }\n",
              "</style>\n",
              "<table border=\"1\" class=\"dataframe\">\n",
              "  <thead>\n",
              "    <tr style=\"text-align: right;\">\n",
              "      <th></th>\n",
              "      <th>gender</th>\n",
              "      <th>age</th>\n",
              "      <th>hypertension</th>\n",
              "      <th>heart_disease</th>\n",
              "      <th>ever_married</th>\n",
              "      <th>work_type</th>\n",
              "      <th>Residence_type</th>\n",
              "      <th>avg_glucose_level</th>\n",
              "      <th>bmi</th>\n",
              "      <th>smoking_status</th>\n",
              "      <th>stroke</th>\n",
              "    </tr>\n",
              "  </thead>\n",
              "  <tbody>\n",
              "  </tbody>\n",
              "</table>\n",
              "</div>"
            ],
            "text/plain": [
              "Empty DataFrame\n",
              "Columns: [gender, age, hypertension, heart_disease, ever_married, work_type, Residence_type, avg_glucose_level, bmi, smoking_status, stroke]\n",
              "Index: []"
            ]
          },
          "metadata": {
            "tags": []
          },
          "execution_count": 42
        }
      ]
    },
    {
      "cell_type": "code",
      "metadata": {
        "colab": {
          "base_uri": "https://localhost:8080/",
          "height": 49
        },
        "id": "R6-yRxBm4N7r",
        "outputId": "0284c5f4-ca1c-40a7-ac85-a9f2dd6c3e10"
      },
      "source": [
        "new_data[new_data['hypertension'].isnull()]"
      ],
      "execution_count": null,
      "outputs": [
        {
          "output_type": "execute_result",
          "data": {
            "text/html": [
              "<div>\n",
              "<style scoped>\n",
              "    .dataframe tbody tr th:only-of-type {\n",
              "        vertical-align: middle;\n",
              "    }\n",
              "\n",
              "    .dataframe tbody tr th {\n",
              "        vertical-align: top;\n",
              "    }\n",
              "\n",
              "    .dataframe thead th {\n",
              "        text-align: right;\n",
              "    }\n",
              "</style>\n",
              "<table border=\"1\" class=\"dataframe\">\n",
              "  <thead>\n",
              "    <tr style=\"text-align: right;\">\n",
              "      <th></th>\n",
              "      <th>gender</th>\n",
              "      <th>age</th>\n",
              "      <th>hypertension</th>\n",
              "      <th>heart_disease</th>\n",
              "      <th>ever_married</th>\n",
              "      <th>work_type</th>\n",
              "      <th>Residence_type</th>\n",
              "      <th>avg_glucose_level</th>\n",
              "      <th>bmi</th>\n",
              "      <th>smoking_status</th>\n",
              "      <th>stroke</th>\n",
              "    </tr>\n",
              "  </thead>\n",
              "  <tbody>\n",
              "  </tbody>\n",
              "</table>\n",
              "</div>"
            ],
            "text/plain": [
              "Empty DataFrame\n",
              "Columns: [gender, age, hypertension, heart_disease, ever_married, work_type, Residence_type, avg_glucose_level, bmi, smoking_status, stroke]\n",
              "Index: []"
            ]
          },
          "metadata": {
            "tags": []
          },
          "execution_count": 43
        }
      ]
    },
    {
      "cell_type": "code",
      "metadata": {
        "colab": {
          "base_uri": "https://localhost:8080/",
          "height": 49
        },
        "id": "18cdwvPj4Ohk",
        "outputId": "a0d8e35d-5ba6-414d-9d09-d181e39953be"
      },
      "source": [
        "new_data[new_data['heart_disease'].isnull()]"
      ],
      "execution_count": null,
      "outputs": [
        {
          "output_type": "execute_result",
          "data": {
            "text/html": [
              "<div>\n",
              "<style scoped>\n",
              "    .dataframe tbody tr th:only-of-type {\n",
              "        vertical-align: middle;\n",
              "    }\n",
              "\n",
              "    .dataframe tbody tr th {\n",
              "        vertical-align: top;\n",
              "    }\n",
              "\n",
              "    .dataframe thead th {\n",
              "        text-align: right;\n",
              "    }\n",
              "</style>\n",
              "<table border=\"1\" class=\"dataframe\">\n",
              "  <thead>\n",
              "    <tr style=\"text-align: right;\">\n",
              "      <th></th>\n",
              "      <th>gender</th>\n",
              "      <th>age</th>\n",
              "      <th>hypertension</th>\n",
              "      <th>heart_disease</th>\n",
              "      <th>ever_married</th>\n",
              "      <th>work_type</th>\n",
              "      <th>Residence_type</th>\n",
              "      <th>avg_glucose_level</th>\n",
              "      <th>bmi</th>\n",
              "      <th>smoking_status</th>\n",
              "      <th>stroke</th>\n",
              "    </tr>\n",
              "  </thead>\n",
              "  <tbody>\n",
              "  </tbody>\n",
              "</table>\n",
              "</div>"
            ],
            "text/plain": [
              "Empty DataFrame\n",
              "Columns: [gender, age, hypertension, heart_disease, ever_married, work_type, Residence_type, avg_glucose_level, bmi, smoking_status, stroke]\n",
              "Index: []"
            ]
          },
          "metadata": {
            "tags": []
          },
          "execution_count": 44
        }
      ]
    },
    {
      "cell_type": "code",
      "metadata": {
        "colab": {
          "base_uri": "https://localhost:8080/",
          "height": 49
        },
        "id": "DunYxAOL4S5_",
        "outputId": "7a061717-41e3-40e8-d2dc-c9852a8f12da"
      },
      "source": [
        "new_data[new_data['ever_married'].isnull()]"
      ],
      "execution_count": null,
      "outputs": [
        {
          "output_type": "execute_result",
          "data": {
            "text/html": [
              "<div>\n",
              "<style scoped>\n",
              "    .dataframe tbody tr th:only-of-type {\n",
              "        vertical-align: middle;\n",
              "    }\n",
              "\n",
              "    .dataframe tbody tr th {\n",
              "        vertical-align: top;\n",
              "    }\n",
              "\n",
              "    .dataframe thead th {\n",
              "        text-align: right;\n",
              "    }\n",
              "</style>\n",
              "<table border=\"1\" class=\"dataframe\">\n",
              "  <thead>\n",
              "    <tr style=\"text-align: right;\">\n",
              "      <th></th>\n",
              "      <th>gender</th>\n",
              "      <th>age</th>\n",
              "      <th>hypertension</th>\n",
              "      <th>heart_disease</th>\n",
              "      <th>ever_married</th>\n",
              "      <th>work_type</th>\n",
              "      <th>Residence_type</th>\n",
              "      <th>avg_glucose_level</th>\n",
              "      <th>bmi</th>\n",
              "      <th>smoking_status</th>\n",
              "      <th>stroke</th>\n",
              "    </tr>\n",
              "  </thead>\n",
              "  <tbody>\n",
              "  </tbody>\n",
              "</table>\n",
              "</div>"
            ],
            "text/plain": [
              "Empty DataFrame\n",
              "Columns: [gender, age, hypertension, heart_disease, ever_married, work_type, Residence_type, avg_glucose_level, bmi, smoking_status, stroke]\n",
              "Index: []"
            ]
          },
          "metadata": {
            "tags": []
          },
          "execution_count": 45
        }
      ]
    },
    {
      "cell_type": "code",
      "metadata": {
        "colab": {
          "base_uri": "https://localhost:8080/",
          "height": 49
        },
        "id": "CjWsCtBQ4TpX",
        "outputId": "cbba280d-770b-4183-cac1-0ed4b0f3f155"
      },
      "source": [
        "new_data[new_data['work_type'].isnull()]"
      ],
      "execution_count": null,
      "outputs": [
        {
          "output_type": "execute_result",
          "data": {
            "text/html": [
              "<div>\n",
              "<style scoped>\n",
              "    .dataframe tbody tr th:only-of-type {\n",
              "        vertical-align: middle;\n",
              "    }\n",
              "\n",
              "    .dataframe tbody tr th {\n",
              "        vertical-align: top;\n",
              "    }\n",
              "\n",
              "    .dataframe thead th {\n",
              "        text-align: right;\n",
              "    }\n",
              "</style>\n",
              "<table border=\"1\" class=\"dataframe\">\n",
              "  <thead>\n",
              "    <tr style=\"text-align: right;\">\n",
              "      <th></th>\n",
              "      <th>gender</th>\n",
              "      <th>age</th>\n",
              "      <th>hypertension</th>\n",
              "      <th>heart_disease</th>\n",
              "      <th>ever_married</th>\n",
              "      <th>work_type</th>\n",
              "      <th>Residence_type</th>\n",
              "      <th>avg_glucose_level</th>\n",
              "      <th>bmi</th>\n",
              "      <th>smoking_status</th>\n",
              "      <th>stroke</th>\n",
              "    </tr>\n",
              "  </thead>\n",
              "  <tbody>\n",
              "  </tbody>\n",
              "</table>\n",
              "</div>"
            ],
            "text/plain": [
              "Empty DataFrame\n",
              "Columns: [gender, age, hypertension, heart_disease, ever_married, work_type, Residence_type, avg_glucose_level, bmi, smoking_status, stroke]\n",
              "Index: []"
            ]
          },
          "metadata": {
            "tags": []
          },
          "execution_count": 46
        }
      ]
    },
    {
      "cell_type": "code",
      "metadata": {
        "colab": {
          "base_uri": "https://localhost:8080/",
          "height": 49
        },
        "id": "5kTkk4Gp4mrz",
        "outputId": "d394485e-ed94-4868-a03a-15f53bf14a95"
      },
      "source": [
        "new_data[new_data['Residence_type'].isnull()]"
      ],
      "execution_count": null,
      "outputs": [
        {
          "output_type": "execute_result",
          "data": {
            "text/html": [
              "<div>\n",
              "<style scoped>\n",
              "    .dataframe tbody tr th:only-of-type {\n",
              "        vertical-align: middle;\n",
              "    }\n",
              "\n",
              "    .dataframe tbody tr th {\n",
              "        vertical-align: top;\n",
              "    }\n",
              "\n",
              "    .dataframe thead th {\n",
              "        text-align: right;\n",
              "    }\n",
              "</style>\n",
              "<table border=\"1\" class=\"dataframe\">\n",
              "  <thead>\n",
              "    <tr style=\"text-align: right;\">\n",
              "      <th></th>\n",
              "      <th>gender</th>\n",
              "      <th>age</th>\n",
              "      <th>hypertension</th>\n",
              "      <th>heart_disease</th>\n",
              "      <th>ever_married</th>\n",
              "      <th>work_type</th>\n",
              "      <th>Residence_type</th>\n",
              "      <th>avg_glucose_level</th>\n",
              "      <th>bmi</th>\n",
              "      <th>smoking_status</th>\n",
              "      <th>stroke</th>\n",
              "    </tr>\n",
              "  </thead>\n",
              "  <tbody>\n",
              "  </tbody>\n",
              "</table>\n",
              "</div>"
            ],
            "text/plain": [
              "Empty DataFrame\n",
              "Columns: [gender, age, hypertension, heart_disease, ever_married, work_type, Residence_type, avg_glucose_level, bmi, smoking_status, stroke]\n",
              "Index: []"
            ]
          },
          "metadata": {
            "tags": []
          },
          "execution_count": 47
        }
      ]
    },
    {
      "cell_type": "code",
      "metadata": {
        "colab": {
          "base_uri": "https://localhost:8080/",
          "height": 49
        },
        "id": "b9ASz7_T4nd0",
        "outputId": "28a40b57-0270-4a3b-fa87-a6207ada2868"
      },
      "source": [
        "new_data[new_data['avg_glucose_level'].isnull()]"
      ],
      "execution_count": null,
      "outputs": [
        {
          "output_type": "execute_result",
          "data": {
            "text/html": [
              "<div>\n",
              "<style scoped>\n",
              "    .dataframe tbody tr th:only-of-type {\n",
              "        vertical-align: middle;\n",
              "    }\n",
              "\n",
              "    .dataframe tbody tr th {\n",
              "        vertical-align: top;\n",
              "    }\n",
              "\n",
              "    .dataframe thead th {\n",
              "        text-align: right;\n",
              "    }\n",
              "</style>\n",
              "<table border=\"1\" class=\"dataframe\">\n",
              "  <thead>\n",
              "    <tr style=\"text-align: right;\">\n",
              "      <th></th>\n",
              "      <th>gender</th>\n",
              "      <th>age</th>\n",
              "      <th>hypertension</th>\n",
              "      <th>heart_disease</th>\n",
              "      <th>ever_married</th>\n",
              "      <th>work_type</th>\n",
              "      <th>Residence_type</th>\n",
              "      <th>avg_glucose_level</th>\n",
              "      <th>bmi</th>\n",
              "      <th>smoking_status</th>\n",
              "      <th>stroke</th>\n",
              "    </tr>\n",
              "  </thead>\n",
              "  <tbody>\n",
              "  </tbody>\n",
              "</table>\n",
              "</div>"
            ],
            "text/plain": [
              "Empty DataFrame\n",
              "Columns: [gender, age, hypertension, heart_disease, ever_married, work_type, Residence_type, avg_glucose_level, bmi, smoking_status, stroke]\n",
              "Index: []"
            ]
          },
          "metadata": {
            "tags": []
          },
          "execution_count": 48
        }
      ]
    },
    {
      "cell_type": "code",
      "metadata": {
        "colab": {
          "base_uri": "https://localhost:8080/",
          "height": 424
        },
        "id": "KZXcZMnQ1zee",
        "outputId": "f350bf56-820b-404d-fdac-c99021fc370d"
      },
      "source": [
        "new_data[new_data['bmi'].isnull()]"
      ],
      "execution_count": null,
      "outputs": [
        {
          "output_type": "execute_result",
          "data": {
            "text/html": [
              "<div>\n",
              "<style scoped>\n",
              "    .dataframe tbody tr th:only-of-type {\n",
              "        vertical-align: middle;\n",
              "    }\n",
              "\n",
              "    .dataframe tbody tr th {\n",
              "        vertical-align: top;\n",
              "    }\n",
              "\n",
              "    .dataframe thead th {\n",
              "        text-align: right;\n",
              "    }\n",
              "</style>\n",
              "<table border=\"1\" class=\"dataframe\">\n",
              "  <thead>\n",
              "    <tr style=\"text-align: right;\">\n",
              "      <th></th>\n",
              "      <th>gender</th>\n",
              "      <th>age</th>\n",
              "      <th>hypertension</th>\n",
              "      <th>heart_disease</th>\n",
              "      <th>ever_married</th>\n",
              "      <th>work_type</th>\n",
              "      <th>Residence_type</th>\n",
              "      <th>avg_glucose_level</th>\n",
              "      <th>bmi</th>\n",
              "      <th>smoking_status</th>\n",
              "      <th>stroke</th>\n",
              "    </tr>\n",
              "  </thead>\n",
              "  <tbody>\n",
              "    <tr>\n",
              "      <th>1</th>\n",
              "      <td>Female</td>\n",
              "      <td>61.0</td>\n",
              "      <td>0</td>\n",
              "      <td>0</td>\n",
              "      <td>Yes</td>\n",
              "      <td>Self-employed</td>\n",
              "      <td>Rural</td>\n",
              "      <td>202.21</td>\n",
              "      <td>NaN</td>\n",
              "      <td>never smoked</td>\n",
              "      <td>1</td>\n",
              "    </tr>\n",
              "    <tr>\n",
              "      <th>8</th>\n",
              "      <td>Female</td>\n",
              "      <td>59.0</td>\n",
              "      <td>0</td>\n",
              "      <td>0</td>\n",
              "      <td>Yes</td>\n",
              "      <td>Private</td>\n",
              "      <td>Rural</td>\n",
              "      <td>76.15</td>\n",
              "      <td>NaN</td>\n",
              "      <td>Unknown</td>\n",
              "      <td>1</td>\n",
              "    </tr>\n",
              "    <tr>\n",
              "      <th>13</th>\n",
              "      <td>Male</td>\n",
              "      <td>78.0</td>\n",
              "      <td>0</td>\n",
              "      <td>1</td>\n",
              "      <td>Yes</td>\n",
              "      <td>Private</td>\n",
              "      <td>Urban</td>\n",
              "      <td>219.84</td>\n",
              "      <td>NaN</td>\n",
              "      <td>Unknown</td>\n",
              "      <td>1</td>\n",
              "    </tr>\n",
              "    <tr>\n",
              "      <th>19</th>\n",
              "      <td>Male</td>\n",
              "      <td>57.0</td>\n",
              "      <td>0</td>\n",
              "      <td>1</td>\n",
              "      <td>No</td>\n",
              "      <td>Govt_job</td>\n",
              "      <td>Urban</td>\n",
              "      <td>217.08</td>\n",
              "      <td>NaN</td>\n",
              "      <td>Unknown</td>\n",
              "      <td>1</td>\n",
              "    </tr>\n",
              "    <tr>\n",
              "      <th>27</th>\n",
              "      <td>Male</td>\n",
              "      <td>58.0</td>\n",
              "      <td>0</td>\n",
              "      <td>0</td>\n",
              "      <td>Yes</td>\n",
              "      <td>Private</td>\n",
              "      <td>Rural</td>\n",
              "      <td>189.84</td>\n",
              "      <td>NaN</td>\n",
              "      <td>Unknown</td>\n",
              "      <td>1</td>\n",
              "    </tr>\n",
              "    <tr>\n",
              "      <th>...</th>\n",
              "      <td>...</td>\n",
              "      <td>...</td>\n",
              "      <td>...</td>\n",
              "      <td>...</td>\n",
              "      <td>...</td>\n",
              "      <td>...</td>\n",
              "      <td>...</td>\n",
              "      <td>...</td>\n",
              "      <td>...</td>\n",
              "      <td>...</td>\n",
              "      <td>...</td>\n",
              "    </tr>\n",
              "    <tr>\n",
              "      <th>5039</th>\n",
              "      <td>Male</td>\n",
              "      <td>41.0</td>\n",
              "      <td>0</td>\n",
              "      <td>0</td>\n",
              "      <td>No</td>\n",
              "      <td>Private</td>\n",
              "      <td>Rural</td>\n",
              "      <td>70.15</td>\n",
              "      <td>NaN</td>\n",
              "      <td>formerly smoked</td>\n",
              "      <td>0</td>\n",
              "    </tr>\n",
              "    <tr>\n",
              "      <th>5048</th>\n",
              "      <td>Male</td>\n",
              "      <td>40.0</td>\n",
              "      <td>0</td>\n",
              "      <td>0</td>\n",
              "      <td>Yes</td>\n",
              "      <td>Private</td>\n",
              "      <td>Urban</td>\n",
              "      <td>191.15</td>\n",
              "      <td>NaN</td>\n",
              "      <td>smokes</td>\n",
              "      <td>0</td>\n",
              "    </tr>\n",
              "    <tr>\n",
              "      <th>5093</th>\n",
              "      <td>Female</td>\n",
              "      <td>45.0</td>\n",
              "      <td>1</td>\n",
              "      <td>0</td>\n",
              "      <td>Yes</td>\n",
              "      <td>Govt_job</td>\n",
              "      <td>Rural</td>\n",
              "      <td>95.02</td>\n",
              "      <td>NaN</td>\n",
              "      <td>smokes</td>\n",
              "      <td>0</td>\n",
              "    </tr>\n",
              "    <tr>\n",
              "      <th>5099</th>\n",
              "      <td>Male</td>\n",
              "      <td>40.0</td>\n",
              "      <td>0</td>\n",
              "      <td>0</td>\n",
              "      <td>Yes</td>\n",
              "      <td>Private</td>\n",
              "      <td>Rural</td>\n",
              "      <td>83.94</td>\n",
              "      <td>NaN</td>\n",
              "      <td>smokes</td>\n",
              "      <td>0</td>\n",
              "    </tr>\n",
              "    <tr>\n",
              "      <th>5105</th>\n",
              "      <td>Female</td>\n",
              "      <td>80.0</td>\n",
              "      <td>1</td>\n",
              "      <td>0</td>\n",
              "      <td>Yes</td>\n",
              "      <td>Private</td>\n",
              "      <td>Urban</td>\n",
              "      <td>83.75</td>\n",
              "      <td>NaN</td>\n",
              "      <td>never smoked</td>\n",
              "      <td>0</td>\n",
              "    </tr>\n",
              "  </tbody>\n",
              "</table>\n",
              "<p>201 rows × 11 columns</p>\n",
              "</div>"
            ],
            "text/plain": [
              "      gender   age  hypertension  ...  bmi   smoking_status stroke\n",
              "1     Female  61.0             0  ...  NaN     never smoked      1\n",
              "8     Female  59.0             0  ...  NaN          Unknown      1\n",
              "13      Male  78.0             0  ...  NaN          Unknown      1\n",
              "19      Male  57.0             0  ...  NaN          Unknown      1\n",
              "27      Male  58.0             0  ...  NaN          Unknown      1\n",
              "...      ...   ...           ...  ...  ...              ...    ...\n",
              "5039    Male  41.0             0  ...  NaN  formerly smoked      0\n",
              "5048    Male  40.0             0  ...  NaN           smokes      0\n",
              "5093  Female  45.0             1  ...  NaN           smokes      0\n",
              "5099    Male  40.0             0  ...  NaN           smokes      0\n",
              "5105  Female  80.0             1  ...  NaN     never smoked      0\n",
              "\n",
              "[201 rows x 11 columns]"
            ]
          },
          "metadata": {
            "tags": []
          },
          "execution_count": 49
        }
      ]
    },
    {
      "cell_type": "code",
      "metadata": {
        "colab": {
          "base_uri": "https://localhost:8080/",
          "height": 49
        },
        "id": "kWuyckhu5PmG",
        "outputId": "843f880f-c052-47f4-dbc2-caddb70636be"
      },
      "source": [
        "new_data[new_data['smoking_status'].isnull()]"
      ],
      "execution_count": null,
      "outputs": [
        {
          "output_type": "execute_result",
          "data": {
            "text/html": [
              "<div>\n",
              "<style scoped>\n",
              "    .dataframe tbody tr th:only-of-type {\n",
              "        vertical-align: middle;\n",
              "    }\n",
              "\n",
              "    .dataframe tbody tr th {\n",
              "        vertical-align: top;\n",
              "    }\n",
              "\n",
              "    .dataframe thead th {\n",
              "        text-align: right;\n",
              "    }\n",
              "</style>\n",
              "<table border=\"1\" class=\"dataframe\">\n",
              "  <thead>\n",
              "    <tr style=\"text-align: right;\">\n",
              "      <th></th>\n",
              "      <th>gender</th>\n",
              "      <th>age</th>\n",
              "      <th>hypertension</th>\n",
              "      <th>heart_disease</th>\n",
              "      <th>ever_married</th>\n",
              "      <th>work_type</th>\n",
              "      <th>Residence_type</th>\n",
              "      <th>avg_glucose_level</th>\n",
              "      <th>bmi</th>\n",
              "      <th>smoking_status</th>\n",
              "      <th>stroke</th>\n",
              "    </tr>\n",
              "  </thead>\n",
              "  <tbody>\n",
              "  </tbody>\n",
              "</table>\n",
              "</div>"
            ],
            "text/plain": [
              "Empty DataFrame\n",
              "Columns: [gender, age, hypertension, heart_disease, ever_married, work_type, Residence_type, avg_glucose_level, bmi, smoking_status, stroke]\n",
              "Index: []"
            ]
          },
          "metadata": {
            "tags": []
          },
          "execution_count": 50
        }
      ]
    },
    {
      "cell_type": "code",
      "metadata": {
        "colab": {
          "base_uri": "https://localhost:8080/",
          "height": 49
        },
        "id": "bRLV5v0w5X7i",
        "outputId": "66419488-33e9-465b-ebab-a819e4851e52"
      },
      "source": [
        "new_data[new_data['stroke'].isnull()]"
      ],
      "execution_count": null,
      "outputs": [
        {
          "output_type": "execute_result",
          "data": {
            "text/html": [
              "<div>\n",
              "<style scoped>\n",
              "    .dataframe tbody tr th:only-of-type {\n",
              "        vertical-align: middle;\n",
              "    }\n",
              "\n",
              "    .dataframe tbody tr th {\n",
              "        vertical-align: top;\n",
              "    }\n",
              "\n",
              "    .dataframe thead th {\n",
              "        text-align: right;\n",
              "    }\n",
              "</style>\n",
              "<table border=\"1\" class=\"dataframe\">\n",
              "  <thead>\n",
              "    <tr style=\"text-align: right;\">\n",
              "      <th></th>\n",
              "      <th>gender</th>\n",
              "      <th>age</th>\n",
              "      <th>hypertension</th>\n",
              "      <th>heart_disease</th>\n",
              "      <th>ever_married</th>\n",
              "      <th>work_type</th>\n",
              "      <th>Residence_type</th>\n",
              "      <th>avg_glucose_level</th>\n",
              "      <th>bmi</th>\n",
              "      <th>smoking_status</th>\n",
              "      <th>stroke</th>\n",
              "    </tr>\n",
              "  </thead>\n",
              "  <tbody>\n",
              "  </tbody>\n",
              "</table>\n",
              "</div>"
            ],
            "text/plain": [
              "Empty DataFrame\n",
              "Columns: [gender, age, hypertension, heart_disease, ever_married, work_type, Residence_type, avg_glucose_level, bmi, smoking_status, stroke]\n",
              "Index: []"
            ]
          },
          "metadata": {
            "tags": []
          },
          "execution_count": 51
        }
      ]
    },
    {
      "cell_type": "markdown",
      "metadata": {
        "id": "sUyhIvJoff8f"
      },
      "source": [
        "**Removing the NULL Values**"
      ]
    },
    {
      "cell_type": "code",
      "metadata": {
        "colab": {
          "base_uri": "https://localhost:8080/"
        },
        "id": "9_A9IMlm3HJd",
        "outputId": "b693cea8-4f83-4c54-a746-86337a6e4d69"
      },
      "source": [
        "print(\"Mean of BMI value for Females: \", np.mean(new_data[new_data['gender'] == 'Female']['bmi']))\n",
        "print(\"Mean of BMI value for Males: \", np.mean(new_data[new_data['gender'] == 'Male']['bmi']))\n",
        "print(\"Mean of BMI value: \", np.mean(new_data['bmi']))"
      ],
      "execution_count": null,
      "outputs": [
        {
          "output_type": "stream",
          "text": [
            "Mean of BMI value for Females:  29.065757680359038\n",
            "Mean of BMI value for Males:  28.647936350074616\n",
            "Mean of BMI value:  28.893236911794673\n"
          ],
          "name": "stdout"
        }
      ]
    },
    {
      "cell_type": "code",
      "metadata": {
        "id": "hLHzU9G35iSK"
      },
      "source": [
        "new_data['bmi'] = new_data['bmi'].fillna(0)"
      ],
      "execution_count": null,
      "outputs": []
    },
    {
      "cell_type": "code",
      "metadata": {
        "id": "N_eRChT85ri9",
        "colab": {
          "base_uri": "https://localhost:8080/"
        },
        "outputId": "fb6374bf-9a64-43f0-808b-f673047c0cea"
      },
      "source": [
        "for i in range(0,5035):\n",
        "    if(new_data['bmi'][i] == 0):\n",
        "        if(new_data['gender'][i] == 'Male'):\n",
        "            new_data['bmi'][i] = 28.647936350074616\n",
        "        elif(new_data['gender'][i] == 'Female'):\n",
        "            new_data['bmi'][i] = 29.065757680359038\n",
        "        else:\n",
        "            new_data['bmi'][i] = 28.893236911794673\n",
        "        "
      ],
      "execution_count": null,
      "outputs": [
        {
          "output_type": "stream",
          "text": [
            "/usr/local/lib/python3.7/dist-packages/ipykernel_launcher.py:6: SettingWithCopyWarning: \n",
            "A value is trying to be set on a copy of a slice from a DataFrame\n",
            "\n",
            "See the caveats in the documentation: https://pandas.pydata.org/pandas-docs/stable/user_guide/indexing.html#returning-a-view-versus-a-copy\n",
            "  \n",
            "/usr/local/lib/python3.7/dist-packages/ipykernel_launcher.py:4: SettingWithCopyWarning: \n",
            "A value is trying to be set on a copy of a slice from a DataFrame\n",
            "\n",
            "See the caveats in the documentation: https://pandas.pydata.org/pandas-docs/stable/user_guide/indexing.html#returning-a-view-versus-a-copy\n",
            "  after removing the cwd from sys.path.\n"
          ],
          "name": "stderr"
        }
      ]
    },
    {
      "cell_type": "code",
      "metadata": {
        "colab": {
          "base_uri": "https://localhost:8080/",
          "height": 49
        },
        "id": "zX7mG0AY6Rvy",
        "outputId": "68efb8fd-5d74-4404-833d-7d48cf9fce16"
      },
      "source": [
        "new_data[new_data['bmi'].isnull()]"
      ],
      "execution_count": null,
      "outputs": [
        {
          "output_type": "execute_result",
          "data": {
            "text/html": [
              "<div>\n",
              "<style scoped>\n",
              "    .dataframe tbody tr th:only-of-type {\n",
              "        vertical-align: middle;\n",
              "    }\n",
              "\n",
              "    .dataframe tbody tr th {\n",
              "        vertical-align: top;\n",
              "    }\n",
              "\n",
              "    .dataframe thead th {\n",
              "        text-align: right;\n",
              "    }\n",
              "</style>\n",
              "<table border=\"1\" class=\"dataframe\">\n",
              "  <thead>\n",
              "    <tr style=\"text-align: right;\">\n",
              "      <th></th>\n",
              "      <th>gender</th>\n",
              "      <th>age</th>\n",
              "      <th>hypertension</th>\n",
              "      <th>heart_disease</th>\n",
              "      <th>ever_married</th>\n",
              "      <th>work_type</th>\n",
              "      <th>Residence_type</th>\n",
              "      <th>avg_glucose_level</th>\n",
              "      <th>bmi</th>\n",
              "      <th>smoking_status</th>\n",
              "      <th>stroke</th>\n",
              "    </tr>\n",
              "  </thead>\n",
              "  <tbody>\n",
              "  </tbody>\n",
              "</table>\n",
              "</div>"
            ],
            "text/plain": [
              "Empty DataFrame\n",
              "Columns: [gender, age, hypertension, heart_disease, ever_married, work_type, Residence_type, avg_glucose_level, bmi, smoking_status, stroke]\n",
              "Index: []"
            ]
          },
          "metadata": {
            "tags": []
          },
          "execution_count": 55
        }
      ]
    },
    {
      "cell_type": "markdown",
      "metadata": {
        "id": "_1-lq_anfrZv"
      },
      "source": [
        "**Converting Categorical variables into Dummy variables**"
      ]
    },
    {
      "cell_type": "code",
      "metadata": {
        "colab": {
          "base_uri": "https://localhost:8080/"
        },
        "id": "THGRml7b6ZAs",
        "outputId": "18354294-80c8-4ca2-e0ff-4a8fcf8bf9e4"
      },
      "source": [
        "print(\"Unique Values for Gender\", new_data['gender'].unique())\n",
        "print(\"Unique Values for ever_married\", new_data['ever_married'].unique())\n",
        "print(\"Unique Values for work_type\", new_data['work_type'].unique())\n",
        "print(\"Unique Values for Residence_type\", new_data['Residence_type'].unique())\n",
        "print(\"Unique Values for smoking_status\", new_data['smoking_status'].unique())"
      ],
      "execution_count": null,
      "outputs": [
        {
          "output_type": "stream",
          "text": [
            "Unique Values for Gender ['Male' 'Female' 'Other']\n",
            "Unique Values for ever_married ['Yes' 'No']\n",
            "Unique Values for work_type ['Private' 'Self-employed' 'Govt_job' 'children' 'Never_worked']\n",
            "Unique Values for Residence_type ['Urban' 'Rural']\n",
            "Unique Values for smoking_status ['formerly smoked' 'never smoked' 'smokes' 'Unknown']\n"
          ],
          "name": "stdout"
        }
      ]
    },
    {
      "cell_type": "code",
      "metadata": {
        "id": "36tBwG9T3jQT"
      },
      "source": [
        "ever_married_mapping = {'No': 0, 'Yes': 1}\n",
        "new_data['ever_married'] = new_data['ever_married'].map(ever_married_mapping)"
      ],
      "execution_count": null,
      "outputs": []
    },
    {
      "cell_type": "code",
      "metadata": {
        "colab": {
          "base_uri": "https://localhost:8080/",
          "height": 206
        },
        "id": "DyKYo_2q320X",
        "outputId": "9900fce0-4a3a-4cdf-89dc-0b4c8e569e13"
      },
      "source": [
        "new_data.head()"
      ],
      "execution_count": null,
      "outputs": [
        {
          "output_type": "execute_result",
          "data": {
            "text/html": [
              "<div>\n",
              "<style scoped>\n",
              "    .dataframe tbody tr th:only-of-type {\n",
              "        vertical-align: middle;\n",
              "    }\n",
              "\n",
              "    .dataframe tbody tr th {\n",
              "        vertical-align: top;\n",
              "    }\n",
              "\n",
              "    .dataframe thead th {\n",
              "        text-align: right;\n",
              "    }\n",
              "</style>\n",
              "<table border=\"1\" class=\"dataframe\">\n",
              "  <thead>\n",
              "    <tr style=\"text-align: right;\">\n",
              "      <th></th>\n",
              "      <th>gender</th>\n",
              "      <th>age</th>\n",
              "      <th>hypertension</th>\n",
              "      <th>heart_disease</th>\n",
              "      <th>ever_married</th>\n",
              "      <th>work_type</th>\n",
              "      <th>Residence_type</th>\n",
              "      <th>avg_glucose_level</th>\n",
              "      <th>bmi</th>\n",
              "      <th>smoking_status</th>\n",
              "      <th>stroke</th>\n",
              "    </tr>\n",
              "  </thead>\n",
              "  <tbody>\n",
              "    <tr>\n",
              "      <th>0</th>\n",
              "      <td>Male</td>\n",
              "      <td>67.0</td>\n",
              "      <td>0</td>\n",
              "      <td>1</td>\n",
              "      <td>1</td>\n",
              "      <td>Private</td>\n",
              "      <td>Urban</td>\n",
              "      <td>228.69</td>\n",
              "      <td>36.600000</td>\n",
              "      <td>formerly smoked</td>\n",
              "      <td>1</td>\n",
              "    </tr>\n",
              "    <tr>\n",
              "      <th>1</th>\n",
              "      <td>Female</td>\n",
              "      <td>61.0</td>\n",
              "      <td>0</td>\n",
              "      <td>0</td>\n",
              "      <td>1</td>\n",
              "      <td>Self-employed</td>\n",
              "      <td>Rural</td>\n",
              "      <td>202.21</td>\n",
              "      <td>29.065758</td>\n",
              "      <td>never smoked</td>\n",
              "      <td>1</td>\n",
              "    </tr>\n",
              "    <tr>\n",
              "      <th>2</th>\n",
              "      <td>Male</td>\n",
              "      <td>80.0</td>\n",
              "      <td>0</td>\n",
              "      <td>1</td>\n",
              "      <td>1</td>\n",
              "      <td>Private</td>\n",
              "      <td>Rural</td>\n",
              "      <td>105.92</td>\n",
              "      <td>32.500000</td>\n",
              "      <td>never smoked</td>\n",
              "      <td>1</td>\n",
              "    </tr>\n",
              "    <tr>\n",
              "      <th>3</th>\n",
              "      <td>Female</td>\n",
              "      <td>49.0</td>\n",
              "      <td>0</td>\n",
              "      <td>0</td>\n",
              "      <td>1</td>\n",
              "      <td>Private</td>\n",
              "      <td>Urban</td>\n",
              "      <td>171.23</td>\n",
              "      <td>34.400000</td>\n",
              "      <td>smokes</td>\n",
              "      <td>1</td>\n",
              "    </tr>\n",
              "    <tr>\n",
              "      <th>4</th>\n",
              "      <td>Female</td>\n",
              "      <td>79.0</td>\n",
              "      <td>1</td>\n",
              "      <td>0</td>\n",
              "      <td>1</td>\n",
              "      <td>Self-employed</td>\n",
              "      <td>Rural</td>\n",
              "      <td>174.12</td>\n",
              "      <td>24.000000</td>\n",
              "      <td>never smoked</td>\n",
              "      <td>1</td>\n",
              "    </tr>\n",
              "  </tbody>\n",
              "</table>\n",
              "</div>"
            ],
            "text/plain": [
              "   gender   age  hypertension  ...        bmi   smoking_status stroke\n",
              "0    Male  67.0             0  ...  36.600000  formerly smoked      1\n",
              "1  Female  61.0             0  ...  29.065758     never smoked      1\n",
              "2    Male  80.0             0  ...  32.500000     never smoked      1\n",
              "3  Female  49.0             0  ...  34.400000           smokes      1\n",
              "4  Female  79.0             1  ...  24.000000     never smoked      1\n",
              "\n",
              "[5 rows x 11 columns]"
            ]
          },
          "metadata": {
            "tags": []
          },
          "execution_count": 58
        }
      ]
    },
    {
      "cell_type": "code",
      "metadata": {
        "id": "xi1byWzwz2VQ"
      },
      "source": [
        "Residence_type_mapping = {'Rural': 0, 'Urban': 1}\n",
        "new_data['Residence_type'] = new_data['Residence_type'].map(Residence_type_mapping)"
      ],
      "execution_count": null,
      "outputs": []
    },
    {
      "cell_type": "code",
      "metadata": {
        "colab": {
          "base_uri": "https://localhost:8080/",
          "height": 206
        },
        "id": "7AX_vPO40O9P",
        "outputId": "f0f55fc6-65bc-4bc3-d817-363c421619c8"
      },
      "source": [
        "new_data.head()"
      ],
      "execution_count": null,
      "outputs": [
        {
          "output_type": "execute_result",
          "data": {
            "text/html": [
              "<div>\n",
              "<style scoped>\n",
              "    .dataframe tbody tr th:only-of-type {\n",
              "        vertical-align: middle;\n",
              "    }\n",
              "\n",
              "    .dataframe tbody tr th {\n",
              "        vertical-align: top;\n",
              "    }\n",
              "\n",
              "    .dataframe thead th {\n",
              "        text-align: right;\n",
              "    }\n",
              "</style>\n",
              "<table border=\"1\" class=\"dataframe\">\n",
              "  <thead>\n",
              "    <tr style=\"text-align: right;\">\n",
              "      <th></th>\n",
              "      <th>gender</th>\n",
              "      <th>age</th>\n",
              "      <th>hypertension</th>\n",
              "      <th>heart_disease</th>\n",
              "      <th>ever_married</th>\n",
              "      <th>work_type</th>\n",
              "      <th>Residence_type</th>\n",
              "      <th>avg_glucose_level</th>\n",
              "      <th>bmi</th>\n",
              "      <th>smoking_status</th>\n",
              "      <th>stroke</th>\n",
              "    </tr>\n",
              "  </thead>\n",
              "  <tbody>\n",
              "    <tr>\n",
              "      <th>0</th>\n",
              "      <td>Male</td>\n",
              "      <td>67.0</td>\n",
              "      <td>0</td>\n",
              "      <td>1</td>\n",
              "      <td>1</td>\n",
              "      <td>Private</td>\n",
              "      <td>1</td>\n",
              "      <td>228.69</td>\n",
              "      <td>36.600000</td>\n",
              "      <td>formerly smoked</td>\n",
              "      <td>1</td>\n",
              "    </tr>\n",
              "    <tr>\n",
              "      <th>1</th>\n",
              "      <td>Female</td>\n",
              "      <td>61.0</td>\n",
              "      <td>0</td>\n",
              "      <td>0</td>\n",
              "      <td>1</td>\n",
              "      <td>Self-employed</td>\n",
              "      <td>0</td>\n",
              "      <td>202.21</td>\n",
              "      <td>29.065758</td>\n",
              "      <td>never smoked</td>\n",
              "      <td>1</td>\n",
              "    </tr>\n",
              "    <tr>\n",
              "      <th>2</th>\n",
              "      <td>Male</td>\n",
              "      <td>80.0</td>\n",
              "      <td>0</td>\n",
              "      <td>1</td>\n",
              "      <td>1</td>\n",
              "      <td>Private</td>\n",
              "      <td>0</td>\n",
              "      <td>105.92</td>\n",
              "      <td>32.500000</td>\n",
              "      <td>never smoked</td>\n",
              "      <td>1</td>\n",
              "    </tr>\n",
              "    <tr>\n",
              "      <th>3</th>\n",
              "      <td>Female</td>\n",
              "      <td>49.0</td>\n",
              "      <td>0</td>\n",
              "      <td>0</td>\n",
              "      <td>1</td>\n",
              "      <td>Private</td>\n",
              "      <td>1</td>\n",
              "      <td>171.23</td>\n",
              "      <td>34.400000</td>\n",
              "      <td>smokes</td>\n",
              "      <td>1</td>\n",
              "    </tr>\n",
              "    <tr>\n",
              "      <th>4</th>\n",
              "      <td>Female</td>\n",
              "      <td>79.0</td>\n",
              "      <td>1</td>\n",
              "      <td>0</td>\n",
              "      <td>1</td>\n",
              "      <td>Self-employed</td>\n",
              "      <td>0</td>\n",
              "      <td>174.12</td>\n",
              "      <td>24.000000</td>\n",
              "      <td>never smoked</td>\n",
              "      <td>1</td>\n",
              "    </tr>\n",
              "  </tbody>\n",
              "</table>\n",
              "</div>"
            ],
            "text/plain": [
              "   gender   age  hypertension  ...        bmi   smoking_status stroke\n",
              "0    Male  67.0             0  ...  36.600000  formerly smoked      1\n",
              "1  Female  61.0             0  ...  29.065758     never smoked      1\n",
              "2    Male  80.0             0  ...  32.500000     never smoked      1\n",
              "3  Female  49.0             0  ...  34.400000           smokes      1\n",
              "4  Female  79.0             1  ...  24.000000     never smoked      1\n",
              "\n",
              "[5 rows x 11 columns]"
            ]
          },
          "metadata": {
            "tags": []
          },
          "execution_count": 60
        }
      ]
    },
    {
      "cell_type": "code",
      "metadata": {
        "colab": {
          "base_uri": "https://localhost:8080/",
          "height": 424
        },
        "id": "c1HBVyuc4kHH",
        "outputId": "55222afb-6e1c-4357-a781-0e494534b2d8"
      },
      "source": [
        "new_data['gender'] = pd.Categorical(new_data['gender'])\n",
        "datasetDummies_gender = pd.get_dummies(new_data['gender'], prefix = 'gender_encoded')\n",
        "datasetDummies_gender"
      ],
      "execution_count": null,
      "outputs": [
        {
          "output_type": "execute_result",
          "data": {
            "text/html": [
              "<div>\n",
              "<style scoped>\n",
              "    .dataframe tbody tr th:only-of-type {\n",
              "        vertical-align: middle;\n",
              "    }\n",
              "\n",
              "    .dataframe tbody tr th {\n",
              "        vertical-align: top;\n",
              "    }\n",
              "\n",
              "    .dataframe thead th {\n",
              "        text-align: right;\n",
              "    }\n",
              "</style>\n",
              "<table border=\"1\" class=\"dataframe\">\n",
              "  <thead>\n",
              "    <tr style=\"text-align: right;\">\n",
              "      <th></th>\n",
              "      <th>gender_encoded_Female</th>\n",
              "      <th>gender_encoded_Male</th>\n",
              "      <th>gender_encoded_Other</th>\n",
              "    </tr>\n",
              "  </thead>\n",
              "  <tbody>\n",
              "    <tr>\n",
              "      <th>0</th>\n",
              "      <td>0</td>\n",
              "      <td>1</td>\n",
              "      <td>0</td>\n",
              "    </tr>\n",
              "    <tr>\n",
              "      <th>1</th>\n",
              "      <td>1</td>\n",
              "      <td>0</td>\n",
              "      <td>0</td>\n",
              "    </tr>\n",
              "    <tr>\n",
              "      <th>2</th>\n",
              "      <td>0</td>\n",
              "      <td>1</td>\n",
              "      <td>0</td>\n",
              "    </tr>\n",
              "    <tr>\n",
              "      <th>3</th>\n",
              "      <td>1</td>\n",
              "      <td>0</td>\n",
              "      <td>0</td>\n",
              "    </tr>\n",
              "    <tr>\n",
              "      <th>4</th>\n",
              "      <td>1</td>\n",
              "      <td>0</td>\n",
              "      <td>0</td>\n",
              "    </tr>\n",
              "    <tr>\n",
              "      <th>...</th>\n",
              "      <td>...</td>\n",
              "      <td>...</td>\n",
              "      <td>...</td>\n",
              "    </tr>\n",
              "    <tr>\n",
              "      <th>5105</th>\n",
              "      <td>1</td>\n",
              "      <td>0</td>\n",
              "      <td>0</td>\n",
              "    </tr>\n",
              "    <tr>\n",
              "      <th>5106</th>\n",
              "      <td>1</td>\n",
              "      <td>0</td>\n",
              "      <td>0</td>\n",
              "    </tr>\n",
              "    <tr>\n",
              "      <th>5107</th>\n",
              "      <td>1</td>\n",
              "      <td>0</td>\n",
              "      <td>0</td>\n",
              "    </tr>\n",
              "    <tr>\n",
              "      <th>5108</th>\n",
              "      <td>0</td>\n",
              "      <td>1</td>\n",
              "      <td>0</td>\n",
              "    </tr>\n",
              "    <tr>\n",
              "      <th>5109</th>\n",
              "      <td>1</td>\n",
              "      <td>0</td>\n",
              "      <td>0</td>\n",
              "    </tr>\n",
              "  </tbody>\n",
              "</table>\n",
              "<p>5110 rows × 3 columns</p>\n",
              "</div>"
            ],
            "text/plain": [
              "      gender_encoded_Female  gender_encoded_Male  gender_encoded_Other\n",
              "0                         0                    1                     0\n",
              "1                         1                    0                     0\n",
              "2                         0                    1                     0\n",
              "3                         1                    0                     0\n",
              "4                         1                    0                     0\n",
              "...                     ...                  ...                   ...\n",
              "5105                      1                    0                     0\n",
              "5106                      1                    0                     0\n",
              "5107                      1                    0                     0\n",
              "5108                      0                    1                     0\n",
              "5109                      1                    0                     0\n",
              "\n",
              "[5110 rows x 3 columns]"
            ]
          },
          "metadata": {
            "tags": []
          },
          "execution_count": 61
        }
      ]
    },
    {
      "cell_type": "code",
      "metadata": {
        "colab": {
          "base_uri": "https://localhost:8080/",
          "height": 461
        },
        "id": "UkYMWIF35lZu",
        "outputId": "598d5abf-76ff-4378-b645-3676d216463d"
      },
      "source": [
        "new_data['work_type'] = pd.Categorical(new_data['work_type'])\n",
        "datasetDummies_work_type = pd.get_dummies(new_data['work_type'], prefix = 'work_type_encoded')\n",
        "datasetDummies_work_type"
      ],
      "execution_count": null,
      "outputs": [
        {
          "output_type": "execute_result",
          "data": {
            "text/html": [
              "<div>\n",
              "<style scoped>\n",
              "    .dataframe tbody tr th:only-of-type {\n",
              "        vertical-align: middle;\n",
              "    }\n",
              "\n",
              "    .dataframe tbody tr th {\n",
              "        vertical-align: top;\n",
              "    }\n",
              "\n",
              "    .dataframe thead th {\n",
              "        text-align: right;\n",
              "    }\n",
              "</style>\n",
              "<table border=\"1\" class=\"dataframe\">\n",
              "  <thead>\n",
              "    <tr style=\"text-align: right;\">\n",
              "      <th></th>\n",
              "      <th>work_type_encoded_Govt_job</th>\n",
              "      <th>work_type_encoded_Never_worked</th>\n",
              "      <th>work_type_encoded_Private</th>\n",
              "      <th>work_type_encoded_Self-employed</th>\n",
              "      <th>work_type_encoded_children</th>\n",
              "    </tr>\n",
              "  </thead>\n",
              "  <tbody>\n",
              "    <tr>\n",
              "      <th>0</th>\n",
              "      <td>0</td>\n",
              "      <td>0</td>\n",
              "      <td>1</td>\n",
              "      <td>0</td>\n",
              "      <td>0</td>\n",
              "    </tr>\n",
              "    <tr>\n",
              "      <th>1</th>\n",
              "      <td>0</td>\n",
              "      <td>0</td>\n",
              "      <td>0</td>\n",
              "      <td>1</td>\n",
              "      <td>0</td>\n",
              "    </tr>\n",
              "    <tr>\n",
              "      <th>2</th>\n",
              "      <td>0</td>\n",
              "      <td>0</td>\n",
              "      <td>1</td>\n",
              "      <td>0</td>\n",
              "      <td>0</td>\n",
              "    </tr>\n",
              "    <tr>\n",
              "      <th>3</th>\n",
              "      <td>0</td>\n",
              "      <td>0</td>\n",
              "      <td>1</td>\n",
              "      <td>0</td>\n",
              "      <td>0</td>\n",
              "    </tr>\n",
              "    <tr>\n",
              "      <th>4</th>\n",
              "      <td>0</td>\n",
              "      <td>0</td>\n",
              "      <td>0</td>\n",
              "      <td>1</td>\n",
              "      <td>0</td>\n",
              "    </tr>\n",
              "    <tr>\n",
              "      <th>...</th>\n",
              "      <td>...</td>\n",
              "      <td>...</td>\n",
              "      <td>...</td>\n",
              "      <td>...</td>\n",
              "      <td>...</td>\n",
              "    </tr>\n",
              "    <tr>\n",
              "      <th>5105</th>\n",
              "      <td>0</td>\n",
              "      <td>0</td>\n",
              "      <td>1</td>\n",
              "      <td>0</td>\n",
              "      <td>0</td>\n",
              "    </tr>\n",
              "    <tr>\n",
              "      <th>5106</th>\n",
              "      <td>0</td>\n",
              "      <td>0</td>\n",
              "      <td>0</td>\n",
              "      <td>1</td>\n",
              "      <td>0</td>\n",
              "    </tr>\n",
              "    <tr>\n",
              "      <th>5107</th>\n",
              "      <td>0</td>\n",
              "      <td>0</td>\n",
              "      <td>0</td>\n",
              "      <td>1</td>\n",
              "      <td>0</td>\n",
              "    </tr>\n",
              "    <tr>\n",
              "      <th>5108</th>\n",
              "      <td>0</td>\n",
              "      <td>0</td>\n",
              "      <td>1</td>\n",
              "      <td>0</td>\n",
              "      <td>0</td>\n",
              "    </tr>\n",
              "    <tr>\n",
              "      <th>5109</th>\n",
              "      <td>1</td>\n",
              "      <td>0</td>\n",
              "      <td>0</td>\n",
              "      <td>0</td>\n",
              "      <td>0</td>\n",
              "    </tr>\n",
              "  </tbody>\n",
              "</table>\n",
              "<p>5110 rows × 5 columns</p>\n",
              "</div>"
            ],
            "text/plain": [
              "      work_type_encoded_Govt_job  ...  work_type_encoded_children\n",
              "0                              0  ...                           0\n",
              "1                              0  ...                           0\n",
              "2                              0  ...                           0\n",
              "3                              0  ...                           0\n",
              "4                              0  ...                           0\n",
              "...                          ...  ...                         ...\n",
              "5105                           0  ...                           0\n",
              "5106                           0  ...                           0\n",
              "5107                           0  ...                           0\n",
              "5108                           0  ...                           0\n",
              "5109                           1  ...                           0\n",
              "\n",
              "[5110 rows x 5 columns]"
            ]
          },
          "metadata": {
            "tags": []
          },
          "execution_count": 62
        }
      ]
    },
    {
      "cell_type": "code",
      "metadata": {
        "id": "9kLjtXDP6Bk2",
        "colab": {
          "base_uri": "https://localhost:8080/",
          "height": 441
        },
        "outputId": "46cd6e66-2e76-4469-fa59-f6602fe73456"
      },
      "source": [
        "new_data['smoking_status'] = pd.Categorical(new_data['smoking_status'])\n",
        "datasetDummies_smoking_status = pd.get_dummies(new_data['smoking_status'], prefix = 'smoking_status_encoded')\n",
        "datasetDummies_smoking_status"
      ],
      "execution_count": null,
      "outputs": [
        {
          "output_type": "execute_result",
          "data": {
            "text/html": [
              "<div>\n",
              "<style scoped>\n",
              "    .dataframe tbody tr th:only-of-type {\n",
              "        vertical-align: middle;\n",
              "    }\n",
              "\n",
              "    .dataframe tbody tr th {\n",
              "        vertical-align: top;\n",
              "    }\n",
              "\n",
              "    .dataframe thead th {\n",
              "        text-align: right;\n",
              "    }\n",
              "</style>\n",
              "<table border=\"1\" class=\"dataframe\">\n",
              "  <thead>\n",
              "    <tr style=\"text-align: right;\">\n",
              "      <th></th>\n",
              "      <th>smoking_status_encoded_Unknown</th>\n",
              "      <th>smoking_status_encoded_formerly smoked</th>\n",
              "      <th>smoking_status_encoded_never smoked</th>\n",
              "      <th>smoking_status_encoded_smokes</th>\n",
              "    </tr>\n",
              "  </thead>\n",
              "  <tbody>\n",
              "    <tr>\n",
              "      <th>0</th>\n",
              "      <td>0</td>\n",
              "      <td>1</td>\n",
              "      <td>0</td>\n",
              "      <td>0</td>\n",
              "    </tr>\n",
              "    <tr>\n",
              "      <th>1</th>\n",
              "      <td>0</td>\n",
              "      <td>0</td>\n",
              "      <td>1</td>\n",
              "      <td>0</td>\n",
              "    </tr>\n",
              "    <tr>\n",
              "      <th>2</th>\n",
              "      <td>0</td>\n",
              "      <td>0</td>\n",
              "      <td>1</td>\n",
              "      <td>0</td>\n",
              "    </tr>\n",
              "    <tr>\n",
              "      <th>3</th>\n",
              "      <td>0</td>\n",
              "      <td>0</td>\n",
              "      <td>0</td>\n",
              "      <td>1</td>\n",
              "    </tr>\n",
              "    <tr>\n",
              "      <th>4</th>\n",
              "      <td>0</td>\n",
              "      <td>0</td>\n",
              "      <td>1</td>\n",
              "      <td>0</td>\n",
              "    </tr>\n",
              "    <tr>\n",
              "      <th>...</th>\n",
              "      <td>...</td>\n",
              "      <td>...</td>\n",
              "      <td>...</td>\n",
              "      <td>...</td>\n",
              "    </tr>\n",
              "    <tr>\n",
              "      <th>5105</th>\n",
              "      <td>0</td>\n",
              "      <td>0</td>\n",
              "      <td>1</td>\n",
              "      <td>0</td>\n",
              "    </tr>\n",
              "    <tr>\n",
              "      <th>5106</th>\n",
              "      <td>0</td>\n",
              "      <td>0</td>\n",
              "      <td>1</td>\n",
              "      <td>0</td>\n",
              "    </tr>\n",
              "    <tr>\n",
              "      <th>5107</th>\n",
              "      <td>0</td>\n",
              "      <td>0</td>\n",
              "      <td>1</td>\n",
              "      <td>0</td>\n",
              "    </tr>\n",
              "    <tr>\n",
              "      <th>5108</th>\n",
              "      <td>0</td>\n",
              "      <td>1</td>\n",
              "      <td>0</td>\n",
              "      <td>0</td>\n",
              "    </tr>\n",
              "    <tr>\n",
              "      <th>5109</th>\n",
              "      <td>1</td>\n",
              "      <td>0</td>\n",
              "      <td>0</td>\n",
              "      <td>0</td>\n",
              "    </tr>\n",
              "  </tbody>\n",
              "</table>\n",
              "<p>5110 rows × 4 columns</p>\n",
              "</div>"
            ],
            "text/plain": [
              "      smoking_status_encoded_Unknown  ...  smoking_status_encoded_smokes\n",
              "0                                  0  ...                              0\n",
              "1                                  0  ...                              0\n",
              "2                                  0  ...                              0\n",
              "3                                  0  ...                              1\n",
              "4                                  0  ...                              0\n",
              "...                              ...  ...                            ...\n",
              "5105                               0  ...                              0\n",
              "5106                               0  ...                              0\n",
              "5107                               0  ...                              0\n",
              "5108                               0  ...                              0\n",
              "5109                               1  ...                              0\n",
              "\n",
              "[5110 rows x 4 columns]"
            ]
          },
          "metadata": {
            "tags": []
          },
          "execution_count": 63
        }
      ]
    },
    {
      "cell_type": "code",
      "metadata": {
        "colab": {
          "base_uri": "https://localhost:8080/",
          "height": 461
        },
        "id": "AXvIydmd7eJA",
        "outputId": "a63f38f0-f7b0-4340-8cec-1ccbad8c55e4"
      },
      "source": [
        "new_data.drop(\"gender\", axis=1, inplace=True)\n",
        "new_data.drop(\"work_type\", axis=1, inplace=True)\n",
        "new_data.drop(\"smoking_status\", axis=1, inplace=True)\n",
        "new_data = pd.concat([new_data, datasetDummies_gender], axis=1)\n",
        "new_data = pd.concat([new_data, datasetDummies_work_type], axis=1)\n",
        "new_data = pd.concat([new_data, datasetDummies_smoking_status], axis=1)\n",
        "new_data"
      ],
      "execution_count": null,
      "outputs": [
        {
          "output_type": "execute_result",
          "data": {
            "text/html": [
              "<div>\n",
              "<style scoped>\n",
              "    .dataframe tbody tr th:only-of-type {\n",
              "        vertical-align: middle;\n",
              "    }\n",
              "\n",
              "    .dataframe tbody tr th {\n",
              "        vertical-align: top;\n",
              "    }\n",
              "\n",
              "    .dataframe thead th {\n",
              "        text-align: right;\n",
              "    }\n",
              "</style>\n",
              "<table border=\"1\" class=\"dataframe\">\n",
              "  <thead>\n",
              "    <tr style=\"text-align: right;\">\n",
              "      <th></th>\n",
              "      <th>age</th>\n",
              "      <th>hypertension</th>\n",
              "      <th>heart_disease</th>\n",
              "      <th>ever_married</th>\n",
              "      <th>Residence_type</th>\n",
              "      <th>avg_glucose_level</th>\n",
              "      <th>bmi</th>\n",
              "      <th>stroke</th>\n",
              "      <th>gender_encoded_Female</th>\n",
              "      <th>gender_encoded_Male</th>\n",
              "      <th>gender_encoded_Other</th>\n",
              "      <th>work_type_encoded_Govt_job</th>\n",
              "      <th>work_type_encoded_Never_worked</th>\n",
              "      <th>work_type_encoded_Private</th>\n",
              "      <th>work_type_encoded_Self-employed</th>\n",
              "      <th>work_type_encoded_children</th>\n",
              "      <th>smoking_status_encoded_Unknown</th>\n",
              "      <th>smoking_status_encoded_formerly smoked</th>\n",
              "      <th>smoking_status_encoded_never smoked</th>\n",
              "      <th>smoking_status_encoded_smokes</th>\n",
              "    </tr>\n",
              "  </thead>\n",
              "  <tbody>\n",
              "    <tr>\n",
              "      <th>0</th>\n",
              "      <td>67.0</td>\n",
              "      <td>0</td>\n",
              "      <td>1</td>\n",
              "      <td>1</td>\n",
              "      <td>1</td>\n",
              "      <td>228.69</td>\n",
              "      <td>36.600000</td>\n",
              "      <td>1</td>\n",
              "      <td>0</td>\n",
              "      <td>1</td>\n",
              "      <td>0</td>\n",
              "      <td>0</td>\n",
              "      <td>0</td>\n",
              "      <td>1</td>\n",
              "      <td>0</td>\n",
              "      <td>0</td>\n",
              "      <td>0</td>\n",
              "      <td>1</td>\n",
              "      <td>0</td>\n",
              "      <td>0</td>\n",
              "    </tr>\n",
              "    <tr>\n",
              "      <th>1</th>\n",
              "      <td>61.0</td>\n",
              "      <td>0</td>\n",
              "      <td>0</td>\n",
              "      <td>1</td>\n",
              "      <td>0</td>\n",
              "      <td>202.21</td>\n",
              "      <td>29.065758</td>\n",
              "      <td>1</td>\n",
              "      <td>1</td>\n",
              "      <td>0</td>\n",
              "      <td>0</td>\n",
              "      <td>0</td>\n",
              "      <td>0</td>\n",
              "      <td>0</td>\n",
              "      <td>1</td>\n",
              "      <td>0</td>\n",
              "      <td>0</td>\n",
              "      <td>0</td>\n",
              "      <td>1</td>\n",
              "      <td>0</td>\n",
              "    </tr>\n",
              "    <tr>\n",
              "      <th>2</th>\n",
              "      <td>80.0</td>\n",
              "      <td>0</td>\n",
              "      <td>1</td>\n",
              "      <td>1</td>\n",
              "      <td>0</td>\n",
              "      <td>105.92</td>\n",
              "      <td>32.500000</td>\n",
              "      <td>1</td>\n",
              "      <td>0</td>\n",
              "      <td>1</td>\n",
              "      <td>0</td>\n",
              "      <td>0</td>\n",
              "      <td>0</td>\n",
              "      <td>1</td>\n",
              "      <td>0</td>\n",
              "      <td>0</td>\n",
              "      <td>0</td>\n",
              "      <td>0</td>\n",
              "      <td>1</td>\n",
              "      <td>0</td>\n",
              "    </tr>\n",
              "    <tr>\n",
              "      <th>3</th>\n",
              "      <td>49.0</td>\n",
              "      <td>0</td>\n",
              "      <td>0</td>\n",
              "      <td>1</td>\n",
              "      <td>1</td>\n",
              "      <td>171.23</td>\n",
              "      <td>34.400000</td>\n",
              "      <td>1</td>\n",
              "      <td>1</td>\n",
              "      <td>0</td>\n",
              "      <td>0</td>\n",
              "      <td>0</td>\n",
              "      <td>0</td>\n",
              "      <td>1</td>\n",
              "      <td>0</td>\n",
              "      <td>0</td>\n",
              "      <td>0</td>\n",
              "      <td>0</td>\n",
              "      <td>0</td>\n",
              "      <td>1</td>\n",
              "    </tr>\n",
              "    <tr>\n",
              "      <th>4</th>\n",
              "      <td>79.0</td>\n",
              "      <td>1</td>\n",
              "      <td>0</td>\n",
              "      <td>1</td>\n",
              "      <td>0</td>\n",
              "      <td>174.12</td>\n",
              "      <td>24.000000</td>\n",
              "      <td>1</td>\n",
              "      <td>1</td>\n",
              "      <td>0</td>\n",
              "      <td>0</td>\n",
              "      <td>0</td>\n",
              "      <td>0</td>\n",
              "      <td>0</td>\n",
              "      <td>1</td>\n",
              "      <td>0</td>\n",
              "      <td>0</td>\n",
              "      <td>0</td>\n",
              "      <td>1</td>\n",
              "      <td>0</td>\n",
              "    </tr>\n",
              "    <tr>\n",
              "      <th>...</th>\n",
              "      <td>...</td>\n",
              "      <td>...</td>\n",
              "      <td>...</td>\n",
              "      <td>...</td>\n",
              "      <td>...</td>\n",
              "      <td>...</td>\n",
              "      <td>...</td>\n",
              "      <td>...</td>\n",
              "      <td>...</td>\n",
              "      <td>...</td>\n",
              "      <td>...</td>\n",
              "      <td>...</td>\n",
              "      <td>...</td>\n",
              "      <td>...</td>\n",
              "      <td>...</td>\n",
              "      <td>...</td>\n",
              "      <td>...</td>\n",
              "      <td>...</td>\n",
              "      <td>...</td>\n",
              "      <td>...</td>\n",
              "    </tr>\n",
              "    <tr>\n",
              "      <th>5105</th>\n",
              "      <td>80.0</td>\n",
              "      <td>1</td>\n",
              "      <td>0</td>\n",
              "      <td>1</td>\n",
              "      <td>1</td>\n",
              "      <td>83.75</td>\n",
              "      <td>0.000000</td>\n",
              "      <td>0</td>\n",
              "      <td>1</td>\n",
              "      <td>0</td>\n",
              "      <td>0</td>\n",
              "      <td>0</td>\n",
              "      <td>0</td>\n",
              "      <td>1</td>\n",
              "      <td>0</td>\n",
              "      <td>0</td>\n",
              "      <td>0</td>\n",
              "      <td>0</td>\n",
              "      <td>1</td>\n",
              "      <td>0</td>\n",
              "    </tr>\n",
              "    <tr>\n",
              "      <th>5106</th>\n",
              "      <td>81.0</td>\n",
              "      <td>0</td>\n",
              "      <td>0</td>\n",
              "      <td>1</td>\n",
              "      <td>1</td>\n",
              "      <td>125.20</td>\n",
              "      <td>40.000000</td>\n",
              "      <td>0</td>\n",
              "      <td>1</td>\n",
              "      <td>0</td>\n",
              "      <td>0</td>\n",
              "      <td>0</td>\n",
              "      <td>0</td>\n",
              "      <td>0</td>\n",
              "      <td>1</td>\n",
              "      <td>0</td>\n",
              "      <td>0</td>\n",
              "      <td>0</td>\n",
              "      <td>1</td>\n",
              "      <td>0</td>\n",
              "    </tr>\n",
              "    <tr>\n",
              "      <th>5107</th>\n",
              "      <td>35.0</td>\n",
              "      <td>0</td>\n",
              "      <td>0</td>\n",
              "      <td>1</td>\n",
              "      <td>0</td>\n",
              "      <td>82.99</td>\n",
              "      <td>30.600000</td>\n",
              "      <td>0</td>\n",
              "      <td>1</td>\n",
              "      <td>0</td>\n",
              "      <td>0</td>\n",
              "      <td>0</td>\n",
              "      <td>0</td>\n",
              "      <td>0</td>\n",
              "      <td>1</td>\n",
              "      <td>0</td>\n",
              "      <td>0</td>\n",
              "      <td>0</td>\n",
              "      <td>1</td>\n",
              "      <td>0</td>\n",
              "    </tr>\n",
              "    <tr>\n",
              "      <th>5108</th>\n",
              "      <td>51.0</td>\n",
              "      <td>0</td>\n",
              "      <td>0</td>\n",
              "      <td>1</td>\n",
              "      <td>0</td>\n",
              "      <td>166.29</td>\n",
              "      <td>25.600000</td>\n",
              "      <td>0</td>\n",
              "      <td>0</td>\n",
              "      <td>1</td>\n",
              "      <td>0</td>\n",
              "      <td>0</td>\n",
              "      <td>0</td>\n",
              "      <td>1</td>\n",
              "      <td>0</td>\n",
              "      <td>0</td>\n",
              "      <td>0</td>\n",
              "      <td>1</td>\n",
              "      <td>0</td>\n",
              "      <td>0</td>\n",
              "    </tr>\n",
              "    <tr>\n",
              "      <th>5109</th>\n",
              "      <td>44.0</td>\n",
              "      <td>0</td>\n",
              "      <td>0</td>\n",
              "      <td>1</td>\n",
              "      <td>1</td>\n",
              "      <td>85.28</td>\n",
              "      <td>26.200000</td>\n",
              "      <td>0</td>\n",
              "      <td>1</td>\n",
              "      <td>0</td>\n",
              "      <td>0</td>\n",
              "      <td>1</td>\n",
              "      <td>0</td>\n",
              "      <td>0</td>\n",
              "      <td>0</td>\n",
              "      <td>0</td>\n",
              "      <td>1</td>\n",
              "      <td>0</td>\n",
              "      <td>0</td>\n",
              "      <td>0</td>\n",
              "    </tr>\n",
              "  </tbody>\n",
              "</table>\n",
              "<p>5110 rows × 20 columns</p>\n",
              "</div>"
            ],
            "text/plain": [
              "       age  ...  smoking_status_encoded_smokes\n",
              "0     67.0  ...                              0\n",
              "1     61.0  ...                              0\n",
              "2     80.0  ...                              0\n",
              "3     49.0  ...                              1\n",
              "4     79.0  ...                              0\n",
              "...    ...  ...                            ...\n",
              "5105  80.0  ...                              0\n",
              "5106  81.0  ...                              0\n",
              "5107  35.0  ...                              0\n",
              "5108  51.0  ...                              0\n",
              "5109  44.0  ...                              0\n",
              "\n",
              "[5110 rows x 20 columns]"
            ]
          },
          "metadata": {
            "tags": []
          },
          "execution_count": 64
        }
      ]
    },
    {
      "cell_type": "code",
      "metadata": {
        "colab": {
          "base_uri": "https://localhost:8080/"
        },
        "id": "dPtIhl0KxQag",
        "outputId": "06e5c546-0ffa-4c03-c54d-a4e225e1ee8f"
      },
      "source": [
        "new_data.info()"
      ],
      "execution_count": null,
      "outputs": [
        {
          "output_type": "stream",
          "text": [
            "<class 'pandas.core.frame.DataFrame'>\n",
            "RangeIndex: 5110 entries, 0 to 5109\n",
            "Data columns (total 20 columns):\n",
            " #   Column                                  Non-Null Count  Dtype  \n",
            "---  ------                                  --------------  -----  \n",
            " 0   age                                     5110 non-null   float64\n",
            " 1   hypertension                            5110 non-null   int64  \n",
            " 2   heart_disease                           5110 non-null   int64  \n",
            " 3   ever_married                            5110 non-null   int64  \n",
            " 4   Residence_type                          5110 non-null   int64  \n",
            " 5   avg_glucose_level                       5110 non-null   float64\n",
            " 6   bmi                                     5110 non-null   float64\n",
            " 7   stroke                                  5110 non-null   int64  \n",
            " 8   gender_encoded_Female                   5110 non-null   uint8  \n",
            " 9   gender_encoded_Male                     5110 non-null   uint8  \n",
            " 10  gender_encoded_Other                    5110 non-null   uint8  \n",
            " 11  work_type_encoded_Govt_job              5110 non-null   uint8  \n",
            " 12  work_type_encoded_Never_worked          5110 non-null   uint8  \n",
            " 13  work_type_encoded_Private               5110 non-null   uint8  \n",
            " 14  work_type_encoded_Self-employed         5110 non-null   uint8  \n",
            " 15  work_type_encoded_children              5110 non-null   uint8  \n",
            " 16  smoking_status_encoded_Unknown          5110 non-null   uint8  \n",
            " 17  smoking_status_encoded_formerly smoked  5110 non-null   uint8  \n",
            " 18  smoking_status_encoded_never smoked     5110 non-null   uint8  \n",
            " 19  smoking_status_encoded_smokes           5110 non-null   uint8  \n",
            "dtypes: float64(3), int64(5), uint8(12)\n",
            "memory usage: 379.4 KB\n"
          ],
          "name": "stdout"
        }
      ]
    },
    {
      "cell_type": "code",
      "metadata": {
        "id": "5PGIGIdevdtX",
        "colab": {
          "base_uri": "https://localhost:8080/"
        },
        "outputId": "e38f0051-2482-4bf9-d8e1-ecad41dd5dff"
      },
      "source": [
        "stroke_data=new_data[\"stroke\"].copy()\n",
        "print(stroke_data)"
      ],
      "execution_count": null,
      "outputs": [
        {
          "output_type": "stream",
          "text": [
            "0       1\n",
            "1       1\n",
            "2       1\n",
            "3       1\n",
            "4       1\n",
            "       ..\n",
            "5105    0\n",
            "5106    0\n",
            "5107    0\n",
            "5108    0\n",
            "5109    0\n",
            "Name: stroke, Length: 5110, dtype: int64\n"
          ],
          "name": "stdout"
        }
      ]
    },
    {
      "cell_type": "code",
      "metadata": {
        "id": "JCR7pB5D-AEe"
      },
      "source": [
        "new_data.drop(\"stroke\", axis=1, inplace=True)\n",
        "new_data = pd.concat([new_data, stroke_data], axis=1)"
      ],
      "execution_count": null,
      "outputs": []
    },
    {
      "cell_type": "code",
      "metadata": {
        "colab": {
          "base_uri": "https://localhost:8080/",
          "height": 461
        },
        "id": "uSxzIebS-UBF",
        "outputId": "99c7f200-cf7e-424a-b225-a68c628f4176"
      },
      "source": [
        "new_data"
      ],
      "execution_count": null,
      "outputs": [
        {
          "output_type": "execute_result",
          "data": {
            "text/html": [
              "<div>\n",
              "<style scoped>\n",
              "    .dataframe tbody tr th:only-of-type {\n",
              "        vertical-align: middle;\n",
              "    }\n",
              "\n",
              "    .dataframe tbody tr th {\n",
              "        vertical-align: top;\n",
              "    }\n",
              "\n",
              "    .dataframe thead th {\n",
              "        text-align: right;\n",
              "    }\n",
              "</style>\n",
              "<table border=\"1\" class=\"dataframe\">\n",
              "  <thead>\n",
              "    <tr style=\"text-align: right;\">\n",
              "      <th></th>\n",
              "      <th>age</th>\n",
              "      <th>hypertension</th>\n",
              "      <th>heart_disease</th>\n",
              "      <th>ever_married</th>\n",
              "      <th>Residence_type</th>\n",
              "      <th>avg_glucose_level</th>\n",
              "      <th>bmi</th>\n",
              "      <th>gender_encoded_Female</th>\n",
              "      <th>gender_encoded_Male</th>\n",
              "      <th>gender_encoded_Other</th>\n",
              "      <th>work_type_encoded_Govt_job</th>\n",
              "      <th>work_type_encoded_Never_worked</th>\n",
              "      <th>work_type_encoded_Private</th>\n",
              "      <th>work_type_encoded_Self-employed</th>\n",
              "      <th>work_type_encoded_children</th>\n",
              "      <th>smoking_status_encoded_Unknown</th>\n",
              "      <th>smoking_status_encoded_formerly smoked</th>\n",
              "      <th>smoking_status_encoded_never smoked</th>\n",
              "      <th>smoking_status_encoded_smokes</th>\n",
              "      <th>stroke</th>\n",
              "    </tr>\n",
              "  </thead>\n",
              "  <tbody>\n",
              "    <tr>\n",
              "      <th>0</th>\n",
              "      <td>67.0</td>\n",
              "      <td>0</td>\n",
              "      <td>1</td>\n",
              "      <td>1</td>\n",
              "      <td>1</td>\n",
              "      <td>228.69</td>\n",
              "      <td>36.600000</td>\n",
              "      <td>0</td>\n",
              "      <td>1</td>\n",
              "      <td>0</td>\n",
              "      <td>0</td>\n",
              "      <td>0</td>\n",
              "      <td>1</td>\n",
              "      <td>0</td>\n",
              "      <td>0</td>\n",
              "      <td>0</td>\n",
              "      <td>1</td>\n",
              "      <td>0</td>\n",
              "      <td>0</td>\n",
              "      <td>1</td>\n",
              "    </tr>\n",
              "    <tr>\n",
              "      <th>1</th>\n",
              "      <td>61.0</td>\n",
              "      <td>0</td>\n",
              "      <td>0</td>\n",
              "      <td>1</td>\n",
              "      <td>0</td>\n",
              "      <td>202.21</td>\n",
              "      <td>29.065758</td>\n",
              "      <td>1</td>\n",
              "      <td>0</td>\n",
              "      <td>0</td>\n",
              "      <td>0</td>\n",
              "      <td>0</td>\n",
              "      <td>0</td>\n",
              "      <td>1</td>\n",
              "      <td>0</td>\n",
              "      <td>0</td>\n",
              "      <td>0</td>\n",
              "      <td>1</td>\n",
              "      <td>0</td>\n",
              "      <td>1</td>\n",
              "    </tr>\n",
              "    <tr>\n",
              "      <th>2</th>\n",
              "      <td>80.0</td>\n",
              "      <td>0</td>\n",
              "      <td>1</td>\n",
              "      <td>1</td>\n",
              "      <td>0</td>\n",
              "      <td>105.92</td>\n",
              "      <td>32.500000</td>\n",
              "      <td>0</td>\n",
              "      <td>1</td>\n",
              "      <td>0</td>\n",
              "      <td>0</td>\n",
              "      <td>0</td>\n",
              "      <td>1</td>\n",
              "      <td>0</td>\n",
              "      <td>0</td>\n",
              "      <td>0</td>\n",
              "      <td>0</td>\n",
              "      <td>1</td>\n",
              "      <td>0</td>\n",
              "      <td>1</td>\n",
              "    </tr>\n",
              "    <tr>\n",
              "      <th>3</th>\n",
              "      <td>49.0</td>\n",
              "      <td>0</td>\n",
              "      <td>0</td>\n",
              "      <td>1</td>\n",
              "      <td>1</td>\n",
              "      <td>171.23</td>\n",
              "      <td>34.400000</td>\n",
              "      <td>1</td>\n",
              "      <td>0</td>\n",
              "      <td>0</td>\n",
              "      <td>0</td>\n",
              "      <td>0</td>\n",
              "      <td>1</td>\n",
              "      <td>0</td>\n",
              "      <td>0</td>\n",
              "      <td>0</td>\n",
              "      <td>0</td>\n",
              "      <td>0</td>\n",
              "      <td>1</td>\n",
              "      <td>1</td>\n",
              "    </tr>\n",
              "    <tr>\n",
              "      <th>4</th>\n",
              "      <td>79.0</td>\n",
              "      <td>1</td>\n",
              "      <td>0</td>\n",
              "      <td>1</td>\n",
              "      <td>0</td>\n",
              "      <td>174.12</td>\n",
              "      <td>24.000000</td>\n",
              "      <td>1</td>\n",
              "      <td>0</td>\n",
              "      <td>0</td>\n",
              "      <td>0</td>\n",
              "      <td>0</td>\n",
              "      <td>0</td>\n",
              "      <td>1</td>\n",
              "      <td>0</td>\n",
              "      <td>0</td>\n",
              "      <td>0</td>\n",
              "      <td>1</td>\n",
              "      <td>0</td>\n",
              "      <td>1</td>\n",
              "    </tr>\n",
              "    <tr>\n",
              "      <th>...</th>\n",
              "      <td>...</td>\n",
              "      <td>...</td>\n",
              "      <td>...</td>\n",
              "      <td>...</td>\n",
              "      <td>...</td>\n",
              "      <td>...</td>\n",
              "      <td>...</td>\n",
              "      <td>...</td>\n",
              "      <td>...</td>\n",
              "      <td>...</td>\n",
              "      <td>...</td>\n",
              "      <td>...</td>\n",
              "      <td>...</td>\n",
              "      <td>...</td>\n",
              "      <td>...</td>\n",
              "      <td>...</td>\n",
              "      <td>...</td>\n",
              "      <td>...</td>\n",
              "      <td>...</td>\n",
              "      <td>...</td>\n",
              "    </tr>\n",
              "    <tr>\n",
              "      <th>5105</th>\n",
              "      <td>80.0</td>\n",
              "      <td>1</td>\n",
              "      <td>0</td>\n",
              "      <td>1</td>\n",
              "      <td>1</td>\n",
              "      <td>83.75</td>\n",
              "      <td>0.000000</td>\n",
              "      <td>1</td>\n",
              "      <td>0</td>\n",
              "      <td>0</td>\n",
              "      <td>0</td>\n",
              "      <td>0</td>\n",
              "      <td>1</td>\n",
              "      <td>0</td>\n",
              "      <td>0</td>\n",
              "      <td>0</td>\n",
              "      <td>0</td>\n",
              "      <td>1</td>\n",
              "      <td>0</td>\n",
              "      <td>0</td>\n",
              "    </tr>\n",
              "    <tr>\n",
              "      <th>5106</th>\n",
              "      <td>81.0</td>\n",
              "      <td>0</td>\n",
              "      <td>0</td>\n",
              "      <td>1</td>\n",
              "      <td>1</td>\n",
              "      <td>125.20</td>\n",
              "      <td>40.000000</td>\n",
              "      <td>1</td>\n",
              "      <td>0</td>\n",
              "      <td>0</td>\n",
              "      <td>0</td>\n",
              "      <td>0</td>\n",
              "      <td>0</td>\n",
              "      <td>1</td>\n",
              "      <td>0</td>\n",
              "      <td>0</td>\n",
              "      <td>0</td>\n",
              "      <td>1</td>\n",
              "      <td>0</td>\n",
              "      <td>0</td>\n",
              "    </tr>\n",
              "    <tr>\n",
              "      <th>5107</th>\n",
              "      <td>35.0</td>\n",
              "      <td>0</td>\n",
              "      <td>0</td>\n",
              "      <td>1</td>\n",
              "      <td>0</td>\n",
              "      <td>82.99</td>\n",
              "      <td>30.600000</td>\n",
              "      <td>1</td>\n",
              "      <td>0</td>\n",
              "      <td>0</td>\n",
              "      <td>0</td>\n",
              "      <td>0</td>\n",
              "      <td>0</td>\n",
              "      <td>1</td>\n",
              "      <td>0</td>\n",
              "      <td>0</td>\n",
              "      <td>0</td>\n",
              "      <td>1</td>\n",
              "      <td>0</td>\n",
              "      <td>0</td>\n",
              "    </tr>\n",
              "    <tr>\n",
              "      <th>5108</th>\n",
              "      <td>51.0</td>\n",
              "      <td>0</td>\n",
              "      <td>0</td>\n",
              "      <td>1</td>\n",
              "      <td>0</td>\n",
              "      <td>166.29</td>\n",
              "      <td>25.600000</td>\n",
              "      <td>0</td>\n",
              "      <td>1</td>\n",
              "      <td>0</td>\n",
              "      <td>0</td>\n",
              "      <td>0</td>\n",
              "      <td>1</td>\n",
              "      <td>0</td>\n",
              "      <td>0</td>\n",
              "      <td>0</td>\n",
              "      <td>1</td>\n",
              "      <td>0</td>\n",
              "      <td>0</td>\n",
              "      <td>0</td>\n",
              "    </tr>\n",
              "    <tr>\n",
              "      <th>5109</th>\n",
              "      <td>44.0</td>\n",
              "      <td>0</td>\n",
              "      <td>0</td>\n",
              "      <td>1</td>\n",
              "      <td>1</td>\n",
              "      <td>85.28</td>\n",
              "      <td>26.200000</td>\n",
              "      <td>1</td>\n",
              "      <td>0</td>\n",
              "      <td>0</td>\n",
              "      <td>1</td>\n",
              "      <td>0</td>\n",
              "      <td>0</td>\n",
              "      <td>0</td>\n",
              "      <td>0</td>\n",
              "      <td>1</td>\n",
              "      <td>0</td>\n",
              "      <td>0</td>\n",
              "      <td>0</td>\n",
              "      <td>0</td>\n",
              "    </tr>\n",
              "  </tbody>\n",
              "</table>\n",
              "<p>5110 rows × 20 columns</p>\n",
              "</div>"
            ],
            "text/plain": [
              "       age  hypertension  ...  smoking_status_encoded_smokes  stroke\n",
              "0     67.0             0  ...                              0       1\n",
              "1     61.0             0  ...                              0       1\n",
              "2     80.0             0  ...                              0       1\n",
              "3     49.0             0  ...                              1       1\n",
              "4     79.0             1  ...                              0       1\n",
              "...    ...           ...  ...                            ...     ...\n",
              "5105  80.0             1  ...                              0       0\n",
              "5106  81.0             0  ...                              0       0\n",
              "5107  35.0             0  ...                              0       0\n",
              "5108  51.0             0  ...                              0       0\n",
              "5109  44.0             0  ...                              0       0\n",
              "\n",
              "[5110 rows x 20 columns]"
            ]
          },
          "metadata": {
            "tags": []
          },
          "execution_count": 68
        }
      ]
    },
    {
      "cell_type": "markdown",
      "metadata": {
        "id": "qe2KKkjfgg0W"
      },
      "source": [
        "**Separating the Independent and Dependent Features**"
      ]
    },
    {
      "cell_type": "code",
      "metadata": {
        "id": "zprF32le0Htr"
      },
      "source": [
        "X= new_data.iloc[:,:-1].values\n",
        "y=new_data.iloc[:,-1].values"
      ],
      "execution_count": null,
      "outputs": []
    },
    {
      "cell_type": "code",
      "metadata": {
        "colab": {
          "base_uri": "https://localhost:8080/"
        },
        "id": "KOh7BJKK-04t",
        "outputId": "d17ac40d-7ce6-427a-def9-16210020cfd5"
      },
      "source": [
        "X"
      ],
      "execution_count": null,
      "outputs": [
        {
          "output_type": "execute_result",
          "data": {
            "text/plain": [
              "array([[67.,  0.,  1., ...,  1.,  0.,  0.],\n",
              "       [61.,  0.,  0., ...,  0.,  1.,  0.],\n",
              "       [80.,  0.,  1., ...,  0.,  1.,  0.],\n",
              "       ...,\n",
              "       [35.,  0.,  0., ...,  0.,  1.,  0.],\n",
              "       [51.,  0.,  0., ...,  1.,  0.,  0.],\n",
              "       [44.,  0.,  0., ...,  0.,  0.,  0.]])"
            ]
          },
          "metadata": {
            "tags": []
          },
          "execution_count": 70
        }
      ]
    },
    {
      "cell_type": "code",
      "metadata": {
        "colab": {
          "base_uri": "https://localhost:8080/"
        },
        "id": "g14GpsfR_SWk",
        "outputId": "6915f545-942c-4f6f-fb1f-7de1ff16fb55"
      },
      "source": [
        "y"
      ],
      "execution_count": null,
      "outputs": [
        {
          "output_type": "execute_result",
          "data": {
            "text/plain": [
              "array([1, 1, 1, ..., 0, 0, 0])"
            ]
          },
          "metadata": {
            "tags": []
          },
          "execution_count": 71
        }
      ]
    },
    {
      "cell_type": "markdown",
      "metadata": {
        "id": "ND74MlUDgu1O"
      },
      "source": [
        "**Creating the Training and Testing Dataset**"
      ]
    },
    {
      "cell_type": "code",
      "metadata": {
        "id": "Ce9o2Z_j_VZ8"
      },
      "source": [
        "from sklearn.model_selection import  train_test_split\n",
        "X_train, X_test, y_train, y_test = train_test_split(X, y, test_size=0.2, random_state=0) "
      ],
      "execution_count": null,
      "outputs": []
    },
    {
      "cell_type": "code",
      "metadata": {
        "colab": {
          "base_uri": "https://localhost:8080/"
        },
        "id": "9hPBXe_d_v-d",
        "outputId": "f327ee72-5c89-4b8e-db76-44863c9ce8e2"
      },
      "source": [
        "print(f'Total # of sample in whole dataset: {len(X)}')\n",
        "print(f'Total # of sample in train dataset: {len(X_train)}')\n",
        "print(f'Total # of sample in test dataset: {len(X_test)}')"
      ],
      "execution_count": null,
      "outputs": [
        {
          "output_type": "stream",
          "text": [
            "Total # of sample in whole dataset: 5110\n",
            "Total # of sample in train dataset: 4088\n",
            "Total # of sample in test dataset: 1022\n"
          ],
          "name": "stdout"
        }
      ]
    },
    {
      "cell_type": "code",
      "metadata": {
        "colab": {
          "base_uri": "https://localhost:8080/"
        },
        "id": "YFuPMI6kAUXA",
        "outputId": "3c2015b2-aabe-4fb5-9560-f0ba4aef1b9b"
      },
      "source": [
        "X_train"
      ],
      "execution_count": null,
      "outputs": [
        {
          "output_type": "execute_result",
          "data": {
            "text/plain": [
              "array([[36.,  0.,  0., ...,  1.,  0.,  0.],\n",
              "       [34.,  0.,  0., ...,  1.,  0.,  0.],\n",
              "       [60.,  0.,  0., ...,  0.,  1.,  0.],\n",
              "       ...,\n",
              "       [44.,  0.,  0., ...,  0.,  0.,  1.],\n",
              "       [21.,  0.,  0., ...,  1.,  0.,  0.],\n",
              "       [58.,  1.,  0., ...,  0.,  1.,  0.]])"
            ]
          },
          "metadata": {
            "tags": []
          },
          "execution_count": 74
        }
      ]
    },
    {
      "cell_type": "markdown",
      "metadata": {
        "id": "AU8NvzEEg6Pt"
      },
      "source": [
        "**Scaling the Dataset**"
      ]
    },
    {
      "cell_type": "code",
      "metadata": {
        "id": "0L3Y1piMACec"
      },
      "source": [
        "from sklearn.preprocessing import StandardScaler\n",
        "sc= StandardScaler()\n",
        "X_train = sc.fit_transform(X_train)\n",
        "X_test = sc.transform(X_test)"
      ],
      "execution_count": null,
      "outputs": []
    },
    {
      "cell_type": "code",
      "metadata": {
        "colab": {
          "base_uri": "https://localhost:8080/"
        },
        "id": "Q8PZ3EoXARLH",
        "outputId": "5d7a16d1-df9f-47e7-9ab6-b7cbf246d1c9"
      },
      "source": [
        "X_train"
      ],
      "execution_count": null,
      "outputs": [
        {
          "output_type": "execute_result",
          "data": {
            "text/plain": [
              "array([[-0.32824306, -0.33206349, -0.23963241, ...,  2.17751533,\n",
              "        -0.76532697, -0.42963261],\n",
              "       [-0.41649391, -0.33206349, -0.23963241, ...,  2.17751533,\n",
              "        -0.76532697, -0.42963261],\n",
              "       [ 0.73076708, -0.33206349, -0.23963241, ..., -0.45923902,\n",
              "         1.30663108, -0.42963261],\n",
              "       ...,\n",
              "       [ 0.02476032, -0.33206349, -0.23963241, ..., -0.45923902,\n",
              "        -0.76532697,  2.32757007],\n",
              "       [-0.9901244 , -0.33206349, -0.23963241, ...,  2.17751533,\n",
              "        -0.76532697, -0.42963261],\n",
              "       [ 0.64251624,  3.01147232, -0.23963241, ..., -0.45923902,\n",
              "         1.30663108, -0.42963261]])"
            ]
          },
          "metadata": {
            "tags": []
          },
          "execution_count": 76
        }
      ]
    },
    {
      "cell_type": "code",
      "metadata": {
        "colab": {
          "base_uri": "https://localhost:8080/"
        },
        "id": "P1LKaCRFGkK5",
        "outputId": "7514376f-0c8e-4280-a97e-6358a2ec8a64"
      },
      "source": [
        "len(X_train[0])"
      ],
      "execution_count": null,
      "outputs": [
        {
          "output_type": "execute_result",
          "data": {
            "text/plain": [
              "19"
            ]
          },
          "metadata": {
            "tags": []
          },
          "execution_count": 77
        }
      ]
    },
    {
      "cell_type": "markdown",
      "metadata": {
        "id": "-jM0KlhUg_S-"
      },
      "source": [
        "**Creating the Model**"
      ]
    },
    {
      "cell_type": "code",
      "metadata": {
        "id": "Le4Esi_NBLni"
      },
      "source": [
        "import tensorflow as tf\n",
        "from tensorflow import keras\n",
        "from tensorflow.keras.models import Sequential\n",
        "from tensorflow.keras.layers import Activation,Dense\n",
        "from tensorflow.keras.optimizers import Adam\n",
        "from tensorflow.keras.metrics import categorical_crossentropy\n",
        "\n",
        "model=Sequential()\n",
        "model.add(Dense(50,activation='relu',input_shape=(19,)))\n",
        "model.add(Dense(50,activation='relu'))\n",
        "model.add(Dense(1,activation='sigmoid'))"
      ],
      "execution_count": null,
      "outputs": []
    },
    {
      "cell_type": "code",
      "metadata": {
        "colab": {
          "base_uri": "https://localhost:8080/"
        },
        "id": "NbMK2iceJs-u",
        "outputId": "da4b76c5-2615-45ff-9d0d-2cb0c0c68343"
      },
      "source": [
        "model.summary()"
      ],
      "execution_count": null,
      "outputs": [
        {
          "output_type": "stream",
          "text": [
            "Model: \"sequential\"\n",
            "_________________________________________________________________\n",
            "Layer (type)                 Output Shape              Param #   \n",
            "=================================================================\n",
            "dense (Dense)                (None, 50)                1000      \n",
            "_________________________________________________________________\n",
            "dense_1 (Dense)              (None, 50)                2550      \n",
            "_________________________________________________________________\n",
            "dense_2 (Dense)              (None, 1)                 51        \n",
            "=================================================================\n",
            "Total params: 3,601\n",
            "Trainable params: 3,601\n",
            "Non-trainable params: 0\n",
            "_________________________________________________________________\n"
          ],
          "name": "stdout"
        }
      ]
    },
    {
      "cell_type": "markdown",
      "metadata": {
        "id": "VAoB8bpxhIev"
      },
      "source": [
        "**Training the Model**"
      ]
    },
    {
      "cell_type": "code",
      "metadata": {
        "colab": {
          "base_uri": "https://localhost:8080/"
        },
        "id": "X3BPuPxaJ6-i",
        "outputId": "a5ecd69c-454a-4c67-c93b-6109de638739"
      },
      "source": [
        "model.compile(optimizer = 'adam',loss = 'binary_crossentropy',metrics = ['accuracy'])\n",
        "model.fit(X_train,y_train,epochs = 30,batch_size =3)"
      ],
      "execution_count": null,
      "outputs": [
        {
          "output_type": "stream",
          "text": [
            "Epoch 1/30\n",
            "1363/1363 [==============================] - 6s 2ms/step - loss: 0.2351 - accuracy: 0.9351\n",
            "Epoch 2/30\n",
            "1363/1363 [==============================] - 3s 2ms/step - loss: 0.1474 - accuracy: 0.9553\n",
            "Epoch 3/30\n",
            "1363/1363 [==============================] - 3s 2ms/step - loss: 0.1728 - accuracy: 0.9441\n",
            "Epoch 4/30\n",
            "1363/1363 [==============================] - 3s 2ms/step - loss: 0.1527 - accuracy: 0.9490\n",
            "Epoch 5/30\n",
            "1363/1363 [==============================] - 3s 2ms/step - loss: 0.1453 - accuracy: 0.9509\n",
            "Epoch 6/30\n",
            "1363/1363 [==============================] - 3s 2ms/step - loss: 0.1300 - accuracy: 0.9581\n",
            "Epoch 7/30\n",
            "1363/1363 [==============================] - 3s 2ms/step - loss: 0.1422 - accuracy: 0.9517\n",
            "Epoch 8/30\n",
            "1363/1363 [==============================] - 3s 2ms/step - loss: 0.1184 - accuracy: 0.9619\n",
            "Epoch 9/30\n",
            "1363/1363 [==============================] - 3s 2ms/step - loss: 0.1390 - accuracy: 0.9524\n",
            "Epoch 10/30\n",
            "1363/1363 [==============================] - 3s 2ms/step - loss: 0.1242 - accuracy: 0.9563\n",
            "Epoch 11/30\n",
            "1363/1363 [==============================] - 3s 2ms/step - loss: 0.1376 - accuracy: 0.9487\n",
            "Epoch 12/30\n",
            "1363/1363 [==============================] - 3s 2ms/step - loss: 0.1243 - accuracy: 0.9569\n",
            "Epoch 13/30\n",
            "1363/1363 [==============================] - 3s 2ms/step - loss: 0.1276 - accuracy: 0.9557\n",
            "Epoch 14/30\n",
            "1363/1363 [==============================] - 3s 2ms/step - loss: 0.1261 - accuracy: 0.9557\n",
            "Epoch 15/30\n",
            "1363/1363 [==============================] - 3s 2ms/step - loss: 0.1126 - accuracy: 0.9623\n",
            "Epoch 16/30\n",
            "1363/1363 [==============================] - 3s 2ms/step - loss: 0.1247 - accuracy: 0.9570\n",
            "Epoch 17/30\n",
            "1363/1363 [==============================] - 3s 2ms/step - loss: 0.1093 - accuracy: 0.9617\n",
            "Epoch 18/30\n",
            "1363/1363 [==============================] - 3s 2ms/step - loss: 0.1104 - accuracy: 0.9594\n",
            "Epoch 19/30\n",
            "1363/1363 [==============================] - 3s 2ms/step - loss: 0.1151 - accuracy: 0.9575\n",
            "Epoch 20/30\n",
            "1363/1363 [==============================] - 3s 2ms/step - loss: 0.1092 - accuracy: 0.9614\n",
            "Epoch 21/30\n",
            "1363/1363 [==============================] - 3s 2ms/step - loss: 0.1057 - accuracy: 0.9595\n",
            "Epoch 22/30\n",
            "1363/1363 [==============================] - 3s 2ms/step - loss: 0.1003 - accuracy: 0.9626\n",
            "Epoch 23/30\n",
            "1363/1363 [==============================] - 3s 2ms/step - loss: 0.1064 - accuracy: 0.9612\n",
            "Epoch 24/30\n",
            "1363/1363 [==============================] - 3s 2ms/step - loss: 0.1074 - accuracy: 0.9599\n",
            "Epoch 25/30\n",
            "1363/1363 [==============================] - 3s 2ms/step - loss: 0.0985 - accuracy: 0.9650\n",
            "Epoch 26/30\n",
            "1363/1363 [==============================] - 3s 2ms/step - loss: 0.0934 - accuracy: 0.9669\n",
            "Epoch 27/30\n",
            "1363/1363 [==============================] - 3s 2ms/step - loss: 0.0940 - accuracy: 0.9665\n",
            "Epoch 28/30\n",
            "1363/1363 [==============================] - 3s 2ms/step - loss: 0.1004 - accuracy: 0.9622\n",
            "Epoch 29/30\n",
            "1363/1363 [==============================] - 3s 2ms/step - loss: 0.0861 - accuracy: 0.9686\n",
            "Epoch 30/30\n",
            "1363/1363 [==============================] - 3s 2ms/step - loss: 0.0913 - accuracy: 0.9677\n"
          ],
          "name": "stdout"
        },
        {
          "output_type": "execute_result",
          "data": {
            "text/plain": [
              "<tensorflow.python.keras.callbacks.History at 0x7fb88e326910>"
            ]
          },
          "metadata": {
            "tags": []
          },
          "execution_count": 80
        }
      ]
    },
    {
      "cell_type": "markdown",
      "metadata": {
        "id": "rpsIpO4ahORW"
      },
      "source": [
        "**Testing the Model**"
      ]
    },
    {
      "cell_type": "code",
      "metadata": {
        "colab": {
          "base_uri": "https://localhost:8080/"
        },
        "id": "oima7Up8aBOO",
        "outputId": "85fdfdeb-3051-40d1-a190-96fe3bf53111"
      },
      "source": [
        "model.evaluate(x = X_test,y = y_test)"
      ],
      "execution_count": null,
      "outputs": [
        {
          "output_type": "stream",
          "text": [
            "32/32 [==============================] - 0s 1ms/step - loss: 0.3443 - accuracy: 0.9344\n"
          ],
          "name": "stdout"
        },
        {
          "output_type": "execute_result",
          "data": {
            "text/plain": [
              "[0.34427666664123535, 0.9344422817230225]"
            ]
          },
          "metadata": {
            "tags": []
          },
          "execution_count": 81
        }
      ]
    },
    {
      "cell_type": "code",
      "metadata": {
        "id": "QM4KSGEHhRAU",
        "colab": {
          "base_uri": "https://localhost:8080/"
        },
        "outputId": "fa597884-67a6-47f0-d925-8244190a5cac"
      },
      "source": [
        "y_test"
      ],
      "execution_count": null,
      "outputs": [
        {
          "output_type": "execute_result",
          "data": {
            "text/plain": [
              "array([1, 0, 0, ..., 0, 1, 0])"
            ]
          },
          "metadata": {
            "tags": []
          },
          "execution_count": 83
        }
      ]
    },
    {
      "cell_type": "markdown",
      "metadata": {
        "id": "uZrjTyzuhhx1"
      },
      "source": [
        "**Prediction Analysis**"
      ]
    },
    {
      "cell_type": "code",
      "metadata": {
        "colab": {
          "base_uri": "https://localhost:8080/"
        },
        "id": "Celb5BVXfP-R",
        "outputId": "86552c8c-f222-429d-9a0f-5989bf220c65"
      },
      "source": [
        "y_predict=model.predict(X_test)\n",
        "y_predict"
      ],
      "execution_count": null,
      "outputs": [
        {
          "output_type": "execute_result",
          "data": {
            "text/plain": [
              "array([[9.2898577e-01],\n",
              "       [5.6310070e-27],\n",
              "       [1.2776998e-02],\n",
              "       ...,\n",
              "       [4.8571046e-02],\n",
              "       [2.4115868e-01],\n",
              "       [8.4749350e-05]], dtype=float32)"
            ]
          },
          "metadata": {
            "tags": []
          },
          "execution_count": 84
        }
      ]
    },
    {
      "cell_type": "code",
      "metadata": {
        "colab": {
          "base_uri": "https://localhost:8080/"
        },
        "id": "e3aYRBHSfhXu",
        "outputId": "1126e29e-a25f-4cbf-fb89-fed27f6ad695"
      },
      "source": [
        "for i in range(0,len(y_test)-1):\n",
        "  print(\"error = \"+ str(y_test[i]-y_predict[i]))\n",
        " "
      ],
      "execution_count": null,
      "outputs": [
        {
          "output_type": "stream",
          "text": [
            "error = [0.07101423]\n",
            "error = [-5.631007e-27]\n",
            "error = [-0.012777]\n",
            "error = [-8.079724e-07]\n",
            "error = [-5.087104e-23]\n",
            "error = [-0.00053554]\n",
            "error = [-3.1334046e-08]\n",
            "error = [-0.00038733]\n",
            "error = [-0.01351251]\n",
            "error = [-0.30108917]\n",
            "error = [-0.18827368]\n",
            "error = [-5.1627756e-25]\n",
            "error = [-8.433131e-22]\n",
            "error = [-0.5762822]\n",
            "error = [-1.8421483e-07]\n",
            "error = [-0.00082812]\n",
            "error = [-2.860037e-07]\n",
            "error = [-2.0847425e-05]\n",
            "error = [-0.00186515]\n",
            "error = [-0.01936987]\n",
            "error = [-7.597837e-09]\n",
            "error = [-7.361503e-25]\n",
            "error = [-2.4799414e-20]\n",
            "error = [-3.3833785e-05]\n",
            "error = [0.96658695]\n",
            "error = [-0.01600157]\n",
            "error = [-2.3404734e-15]\n",
            "error = [-0.01663196]\n",
            "error = [-1.5882325e-26]\n",
            "error = [-0.03918773]\n",
            "error = [-0.00089679]\n",
            "error = [-0.0004453]\n",
            "error = [0.96389055]\n",
            "error = [-2.6928196e-23]\n",
            "error = [-0.03008372]\n",
            "error = [-0.01552479]\n",
            "error = [-0.00886091]\n",
            "error = [-0.1614559]\n",
            "error = [-0.01002689]\n",
            "error = [-5.0276474e-11]\n",
            "error = [-0.07622115]\n",
            "error = [-8.186038e-08]\n",
            "error = [-0.00434748]\n",
            "error = [-1.1861805e-22]\n",
            "error = [-0.11666737]\n",
            "error = [-7.6134056e-12]\n",
            "error = [-1.5409757e-21]\n",
            "error = [-0.07298954]\n",
            "error = [-4.687083e-05]\n",
            "error = [-0.00782617]\n",
            "error = [-2.1165701e-13]\n",
            "error = [-3.1487252e-05]\n",
            "error = [-1.5308536e-18]\n",
            "error = [0.9907777]\n",
            "error = [-0.01497012]\n",
            "error = [-8.987786e-28]\n",
            "error = [0.9374066]\n",
            "error = [-4.7667902e-28]\n",
            "error = [-0.18630086]\n",
            "error = [-2.6653852e-06]\n",
            "error = [-2.5820688e-08]\n",
            "error = [-1.1645989e-06]\n",
            "error = [-0.04201857]\n",
            "error = [-2.4625425e-25]\n",
            "error = [-0.00022679]\n",
            "error = [-0.01929863]\n",
            "error = [-1.6492419e-06]\n",
            "error = [-5.9655245e-06]\n",
            "error = [-0.12079609]\n",
            "error = [-2.231784e-26]\n",
            "error = [-0.082513]\n",
            "error = [-2.0918478e-09]\n",
            "error = [0.9192679]\n",
            "error = [-2.1526086e-25]\n",
            "error = [-1.730483e-23]\n",
            "error = [-0.00013272]\n",
            "error = [-0.07361935]\n",
            "error = [-8.5992385e-20]\n",
            "error = [-0.00018612]\n",
            "error = [-0.00194239]\n",
            "error = [-0.05571165]\n",
            "error = [-0.9893472]\n",
            "error = [-0.01726601]\n",
            "error = [-0.00444993]\n",
            "error = [-0.07674982]\n",
            "error = [-0.00043352]\n",
            "error = [-0.05617777]\n",
            "error = [-5.4905733e-09]\n",
            "error = [-0.03419946]\n",
            "error = [-0.926516]\n",
            "error = [0.90598595]\n",
            "error = [-0.14305536]\n",
            "error = [-0.01299409]\n",
            "error = [-2.0408874e-11]\n",
            "error = [-4.2453997e-36]\n",
            "error = [0.9999882]\n",
            "error = [-0.00036435]\n",
            "error = [-0.00632982]\n",
            "error = [-0.00037193]\n",
            "error = [-6.437544e-10]\n",
            "error = [-0.00735374]\n",
            "error = [-1.0383883e-08]\n",
            "error = [-0.04574857]\n",
            "error = [-8.2268405e-09]\n",
            "error = [-1.8538505e-13]\n",
            "error = [-0.00346325]\n",
            "error = [-3.538359e-25]\n",
            "error = [-1.0195722e-10]\n",
            "error = [-0.01411477]\n",
            "error = [-0.9605758]\n",
            "error = [-7.529514e-09]\n",
            "error = [-8.973283e-08]\n",
            "error = [-0.09496113]\n",
            "error = [-0.01438332]\n",
            "error = [-0.00813435]\n",
            "error = [-0.07244722]\n",
            "error = [-2.271269e-05]\n",
            "error = [-0.00042023]\n",
            "error = [-0.02777048]\n",
            "error = [-5.7459614e-22]\n",
            "error = [0.93675566]\n",
            "error = [-0.04816399]\n",
            "error = [-0.0422752]\n",
            "error = [-1.45216585e-08]\n",
            "error = [-0.08370682]\n",
            "error = [-0.0881829]\n",
            "error = [-7.192448e-07]\n",
            "error = [-0.00477281]\n",
            "error = [-0.00106687]\n",
            "error = [-1.4022995e-08]\n",
            "error = [-4.8003716e-11]\n",
            "error = [-0.00630257]\n",
            "error = [-0.00075877]\n",
            "error = [-3.016604e-26]\n",
            "error = [-0.0725837]\n",
            "error = [0.9558159]\n",
            "error = [-2.1506228e-17]\n",
            "error = [-3.1303516e-05]\n",
            "error = [-0.00167649]\n",
            "error = [0.]\n",
            "error = [-0.00037654]\n",
            "error = [-1.5536709e-05]\n",
            "error = [0.99989325]\n",
            "error = [-1.3760407e-06]\n",
            "error = [-0.07781151]\n",
            "error = [0.811508]\n",
            "error = [-0.00012328]\n",
            "error = [-0.06561254]\n",
            "error = [-0.04867454]\n",
            "error = [-0.01770661]\n",
            "error = [0.9999995]\n",
            "error = [-0.10724816]\n",
            "error = [-0.0026721]\n",
            "error = [-5.393333e-26]\n",
            "error = [-3.636624e-11]\n",
            "error = [-0.0001448]\n",
            "error = [-6.415115e-05]\n",
            "error = [-0.00978632]\n",
            "error = [-1.187022e-05]\n",
            "error = [-0.00888418]\n",
            "error = [-3.288352e-25]\n",
            "error = [-0.273036]\n",
            "error = [-0.00132497]\n",
            "error = [-2.4574041e-05]\n",
            "error = [-8.867766e-07]\n",
            "error = [-0.00495578]\n",
            "error = [-0.00043446]\n",
            "error = [-1.1913819e-22]\n",
            "error = [-2.5427901e-11]\n",
            "error = [0.9394504]\n",
            "error = [-0.00058991]\n",
            "error = [-0.21188234]\n",
            "error = [-0.07958081]\n",
            "error = [-4.1854342e-22]\n",
            "error = [-0.00046458]\n",
            "error = [-1.45700615e-05]\n",
            "error = [-0.00014622]\n",
            "error = [-0.00339401]\n",
            "error = [-0.06546178]\n",
            "error = [-3.0816506e-30]\n",
            "error = [-2.3708949e-27]\n",
            "error = [-0.1343726]\n",
            "error = [-1.5217355e-06]\n",
            "error = [-0.00038252]\n",
            "error = [-0.2099398]\n",
            "error = [-4.6335135e-05]\n",
            "error = [-0.01833035]\n",
            "error = [-0.48535827]\n",
            "error = [-0.00568525]\n",
            "error = [-0.01247569]\n",
            "error = [-1.0756106e-09]\n",
            "error = [-0.06859989]\n",
            "error = [-2.2215548e-07]\n",
            "error = [0.93510395]\n",
            "error = [-0.00356799]\n",
            "error = [-8.161736e-11]\n",
            "error = [0.75886905]\n",
            "error = [-0.00042855]\n",
            "error = [-2.4548466e-10]\n",
            "error = [-0.03539984]\n",
            "error = [-0.00024113]\n",
            "error = [-4.4074262e-24]\n",
            "error = [-0.00015204]\n",
            "error = [-0.02360428]\n",
            "error = [-1.7264679e-06]\n",
            "error = [-0.06141196]\n",
            "error = [-3.7914137e-26]\n",
            "error = [-2.7349152e-21]\n",
            "error = [-0.05354366]\n",
            "error = [-0.03956534]\n",
            "error = [-0.15138523]\n",
            "error = [-0.74514186]\n",
            "error = [-2.4785015e-05]\n",
            "error = [-1.1486555e-05]\n",
            "error = [-1.7110137e-16]\n",
            "error = [-0.00053766]\n",
            "error = [-0.02942665]\n",
            "error = [-0.01871602]\n",
            "error = [-4.82136e-36]\n",
            "error = [-7.7777866e-18]\n",
            "error = [-2.7709413e-09]\n",
            "error = [-1.255162e-22]\n",
            "error = [-0.01829713]\n",
            "error = [-1.6931544e-13]\n",
            "error = [-0.0032327]\n",
            "error = [-0.00993761]\n",
            "error = [0.9989828]\n",
            "error = [-0.000127]\n",
            "error = [-1.4279761e-23]\n",
            "error = [-2.9919383e-05]\n",
            "error = [-0.05833162]\n",
            "error = [-0.03191435]\n",
            "error = [-4.5395115e-26]\n",
            "error = [-0.3666835]\n",
            "error = [-0.00071582]\n",
            "error = [-0.02024931]\n",
            "error = [-0.00488917]\n",
            "error = [-2.7797712e-05]\n",
            "error = [-0.0435231]\n",
            "error = [-1.572883e-05]\n",
            "error = [-2.0425873e-13]\n",
            "error = [-0.11494371]\n",
            "error = [-0.01160124]\n",
            "error = [-1.0163907e-12]\n",
            "error = [-2.5441249e-18]\n",
            "error = [-0.01525783]\n",
            "error = [-9.075376e-07]\n",
            "error = [-0.01148662]\n",
            "error = [-5.097224e-12]\n",
            "error = [-0.18206248]\n",
            "error = [-5.012036e-13]\n",
            "error = [-7.2179757e-10]\n",
            "error = [-0.12109759]\n",
            "error = [-8.442322e-14]\n",
            "error = [-0.20083416]\n",
            "error = [-0.06782912]\n",
            "error = [-1.03899296e-07]\n",
            "error = [-2.1520425e-17]\n",
            "error = [-2.8175361e-06]\n",
            "error = [-0.12062189]\n",
            "error = [-2.8286899e-05]\n",
            "error = [-0.00018601]\n",
            "error = [-0.00489798]\n",
            "error = [-6.963959e-19]\n",
            "error = [-0.03526126]\n",
            "error = [-0.00072043]\n",
            "error = [-0.03317451]\n",
            "error = [-1.5114572e-23]\n",
            "error = [-0.00150946]\n",
            "error = [-1.05000204e-07]\n",
            "error = [-5.374095e-06]\n",
            "error = [-0.07905824]\n",
            "error = [-0.10435272]\n",
            "error = [-0.01217282]\n",
            "error = [-1.2155762e-07]\n",
            "error = [0.99795246]\n",
            "error = [-1.5252102e-08]\n",
            "error = [0.99993414]\n",
            "error = [-0.43957356]\n",
            "error = [-0.01336531]\n",
            "error = [-1.4145931e-26]\n",
            "error = [-0.00105265]\n",
            "error = [-0.0004904]\n",
            "error = [-0.04647048]\n",
            "error = [0.9669931]\n",
            "error = [-0.00062364]\n",
            "error = [-3.4044663e-11]\n",
            "error = [-0.00878524]\n",
            "error = [-0.37133804]\n",
            "error = [-0.00575392]\n",
            "error = [-0.1819111]\n",
            "error = [-0.00958387]\n",
            "error = [-7.484692e-07]\n",
            "error = [-2.4210814e-19]\n",
            "error = [-3.0078998e-15]\n",
            "error = [-4.5371642e-05]\n",
            "error = [-0.00357176]\n",
            "error = [-0.01305569]\n",
            "error = [-1.077476e-07]\n",
            "error = [-0.0001118]\n",
            "error = [-0.00673379]\n",
            "error = [0.7499303]\n",
            "error = [-0.00652499]\n",
            "error = [0.9998791]\n",
            "error = [-8.391456e-27]\n",
            "error = [-0.06361051]\n",
            "error = [-0.00312222]\n",
            "error = [-0.00734253]\n",
            "error = [-0.04483814]\n",
            "error = [0.9999961]\n",
            "error = [-0.00015363]\n",
            "error = [-1.1621604e-21]\n",
            "error = [-0.00390317]\n",
            "error = [-2.5271088e-27]\n",
            "error = [-0.00016508]\n",
            "error = [-0.02828541]\n",
            "error = [-0.00845159]\n",
            "error = [-0.0007459]\n",
            "error = [-0.05098719]\n",
            "error = [-3.092709e-11]\n",
            "error = [-0.00565104]\n",
            "error = [-0.08034723]\n",
            "error = [-8.516319e-09]\n",
            "error = [-8.5787016e-11]\n",
            "error = [-1.9818819e-07]\n",
            "error = [-0.02016719]\n",
            "error = [-1.1713669e-25]\n",
            "error = [-5.4874295e-07]\n",
            "error = [-2.85261e-20]\n",
            "error = [-1.0738853e-19]\n",
            "error = [-0.00380084]\n",
            "error = [-0.03662163]\n",
            "error = [-5.12065e-12]\n",
            "error = [-0.00262567]\n",
            "error = [-0.00172208]\n",
            "error = [-5.1218882e-09]\n",
            "error = [-0.05956626]\n",
            "error = [-6.2052234e-12]\n",
            "error = [-1.082412e-25]\n",
            "error = [-0.02564832]\n",
            "error = [-0.00192363]\n",
            "error = [-1.5216778e-05]\n",
            "error = [-0.00018308]\n",
            "error = [-0.01243977]\n",
            "error = [-0.02618855]\n",
            "error = [-1.14280465e-27]\n",
            "error = [-8.360507e-24]\n",
            "error = [-0.00068947]\n",
            "error = [-0.2951093]\n",
            "error = [-6.825131e-09]\n",
            "error = [-0.36854592]\n",
            "error = [-0.00646597]\n",
            "error = [-1.2847941e-12]\n",
            "error = [-0.04810856]\n",
            "error = [-7.13962e-16]\n",
            "error = [-3.3151005e-27]\n",
            "error = [-0.00380967]\n",
            "error = [-0.03496197]\n",
            "error = [-0.00841013]\n",
            "error = [-0.01518608]\n",
            "error = [-0.02275291]\n",
            "error = [-0.00358445]\n",
            "error = [-4.8756806e-07]\n",
            "error = [-0.00160984]\n",
            "error = [0.7933]\n",
            "error = [-0.04417541]\n",
            "error = [-1.1420215e-17]\n",
            "error = [0.98988086]\n",
            "error = [-0.15919985]\n",
            "error = [-8.386102e-05]\n",
            "error = [-0.00245074]\n",
            "error = [-0.05152228]\n",
            "error = [-0.02312682]\n",
            "error = [-0.00401767]\n",
            "error = [-0.02163874]\n",
            "error = [-0.00226291]\n",
            "error = [-4.7423576e-10]\n",
            "error = [-1.10589056e-07]\n",
            "error = [-4.726826e-06]\n",
            "error = [-0.00574583]\n",
            "error = [-3.613764e-07]\n",
            "error = [-3.4458356e-17]\n",
            "error = [-8.195542e-05]\n",
            "error = [-7.987137e-09]\n",
            "error = [-0.00369362]\n",
            "error = [-0.00047442]\n",
            "error = [-3.8136862e-23]\n",
            "error = [-0.0007113]\n",
            "error = [-0.00109415]\n",
            "error = [-0.00106322]\n",
            "error = [-3.7486465e-17]\n",
            "error = [-1.7980654e-05]\n",
            "error = [-0.10908526]\n",
            "error = [-0.01478077]\n",
            "error = [-0.03451178]\n",
            "error = [-0.00036758]\n",
            "error = [-9.2289115e-27]\n",
            "error = [-0.00062028]\n",
            "error = [-0.02923789]\n",
            "error = [-0.00254622]\n",
            "error = [-0.10462832]\n",
            "error = [-2.660072e-08]\n",
            "error = [-0.01082751]\n",
            "error = [-1.2123017e-05]\n",
            "error = [-0.00022591]\n",
            "error = [-0.6216284]\n",
            "error = [-0.00016505]\n",
            "error = [-0.00292894]\n",
            "error = [-9.0904535e-17]\n",
            "error = [-0.10929331]\n",
            "error = [0.9454523]\n",
            "error = [-1.8027686e-10]\n",
            "error = [-6.6548466e-08]\n",
            "error = [-0.0007357]\n",
            "error = [-0.02098438]\n",
            "error = [-0.09608296]\n",
            "error = [-0.44902]\n",
            "error = [-0.00143927]\n",
            "error = [-5.310141e-08]\n",
            "error = [-0.20608032]\n",
            "error = [-0.0002035]\n",
            "error = [-0.10488854]\n",
            "error = [-0.00276913]\n",
            "error = [0.9178177]\n",
            "error = [-0.03200277]\n",
            "error = [-0.00062859]\n",
            "error = [-0.00557294]\n",
            "error = [-3.500253e-07]\n",
            "error = [-0.0223276]\n",
            "error = [-0.05852022]\n",
            "error = [-1.9404632e-07]\n",
            "error = [-3.9223534e-05]\n",
            "error = [-0.30890292]\n",
            "error = [-0.00380494]\n",
            "error = [-0.00073837]\n",
            "error = [-0.12095759]\n",
            "error = [0.9885869]\n",
            "error = [-3.779167e-27]\n",
            "error = [-2.2813236e-24]\n",
            "error = [-7.225068e-18]\n",
            "error = [-1.4026082e-06]\n",
            "error = [-2.024497e-07]\n",
            "error = [-1.2523073e-10]\n",
            "error = [-0.00182576]\n",
            "error = [-0.00629508]\n",
            "error = [-2.9178338e-05]\n",
            "error = [-9.302764e-24]\n",
            "error = [-0.0467183]\n",
            "error = [0.91340077]\n",
            "error = [-0.0072787]\n",
            "error = [-7.354368e-19]\n",
            "error = [-0.00064982]\n",
            "error = [-4.892166e-11]\n",
            "error = [-1.0353959e-27]\n",
            "error = [-0.02118787]\n",
            "error = [-0.00209438]\n",
            "error = [-7.094856e-06]\n",
            "error = [-1.0475116e-07]\n",
            "error = [-0.01759153]\n",
            "error = [-6.565931e-09]\n",
            "error = [-0.0922035]\n",
            "error = [-2.3320632e-09]\n",
            "error = [-0.0006501]\n",
            "error = [-4.685196e-06]\n",
            "error = [-0.49080262]\n",
            "error = [-0.0016406]\n",
            "error = [-0.00078134]\n",
            "error = [-0.00088869]\n",
            "error = [-0.00599453]\n",
            "error = [-0.0329076]\n",
            "error = [-0.01468712]\n",
            "error = [-0.15186237]\n",
            "error = [-0.00506667]\n",
            "error = [-3.7450804e-06]\n",
            "error = [-0.01751352]\n",
            "error = [-0.0732801]\n",
            "error = [-0.05139967]\n",
            "error = [-2.408262e-05]\n",
            "error = [0.9864729]\n",
            "error = [-0.05357749]\n",
            "error = [-0.26521802]\n",
            "error = [-0.03804715]\n",
            "error = [-0.07172129]\n",
            "error = [-1.154211e-06]\n",
            "error = [-0.01482266]\n",
            "error = [-0.0010009]\n",
            "error = [-0.12084386]\n",
            "error = [-0.00380459]\n",
            "error = [-4.747253e-05]\n",
            "error = [-0.04469939]\n",
            "error = [-1.328021e-06]\n",
            "error = [-0.00014099]\n",
            "error = [-9.376344e-37]\n",
            "error = [-0.01823198]\n",
            "error = [-0.0001452]\n",
            "error = [-0.0242179]\n",
            "error = [-0.26761556]\n",
            "error = [-9.6893264e-26]\n",
            "error = [-0.00819635]\n",
            "error = [-0.00512842]\n",
            "error = [-0.06777745]\n",
            "error = [-0.00617135]\n",
            "error = [-0.08870021]\n",
            "error = [-4.58419e-15]\n",
            "error = [-0.22794883]\n",
            "error = [-0.01277348]\n",
            "error = [-0.23827341]\n",
            "error = [-2.9724577e-24]\n",
            "error = [-2.7207668e-26]\n",
            "error = [-0.00352977]\n",
            "error = [0.]\n",
            "error = [-2.2859804e-05]\n",
            "error = [-0.00053321]\n",
            "error = [-0.02535989]\n",
            "error = [-0.1321348]\n",
            "error = [-0.0225643]\n",
            "error = [-0.18565996]\n",
            "error = [-4.5883902e-05]\n",
            "error = [-2.7711488e-08]\n",
            "error = [-0.0305428]\n",
            "error = [-0.1576169]\n",
            "error = [-0.00015777]\n",
            "error = [-1.5417583e-06]\n",
            "error = [-1.6218458e-18]\n",
            "error = [-1.126319e-09]\n",
            "error = [-0.01169709]\n",
            "error = [-7.59791e-24]\n",
            "error = [-2.0710816e-19]\n",
            "error = [-2.6774156e-05]\n",
            "error = [-1.8501765e-05]\n",
            "error = [-2.2951919e-26]\n",
            "error = [-6.2665817e-06]\n",
            "error = [-1.9826994e-05]\n",
            "error = [-0.7678377]\n",
            "error = [-2.711475e-07]\n",
            "error = [-0.00414977]\n",
            "error = [-9.427241e-21]\n",
            "error = [-2.5154196e-11]\n",
            "error = [-0.18383035]\n",
            "error = [-1.3758904e-08]\n",
            "error = [-3.956959e-05]\n",
            "error = [-0.01222426]\n",
            "error = [-4.8201924e-05]\n",
            "error = [-2.2450127e-24]\n",
            "error = [-7.892085e-12]\n",
            "error = [-3.841685e-26]\n",
            "error = [-0.03022983]\n",
            "error = [-0.04268677]\n",
            "error = [-1.0783379e-14]\n",
            "error = [-8.493601e-22]\n",
            "error = [-0.00115336]\n",
            "error = [-0.0032688]\n",
            "error = [-0.02923425]\n",
            "error = [-0.00156331]\n",
            "error = [-0.19982116]\n",
            "error = [-0.00179096]\n",
            "error = [-3.960064e-20]\n",
            "error = [-5.157773e-26]\n",
            "error = [-0.21476658]\n",
            "error = [-1.6779244e-18]\n",
            "error = [-2.433058e-11]\n",
            "error = [-9.131296e-05]\n",
            "error = [-0.0477006]\n",
            "error = [-0.05534352]\n",
            "error = [-0.00036758]\n",
            "error = [-0.9160041]\n",
            "error = [-3.9718444e-11]\n",
            "error = [-1.1393699e-20]\n",
            "error = [-5.506766e-13]\n",
            "error = [-4.7375707e-08]\n",
            "error = [-5.330884e-08]\n",
            "error = [-8.2768665e-06]\n",
            "error = [-1.9944557e-25]\n",
            "error = [-1.2213344e-06]\n",
            "error = [-0.00660789]\n",
            "error = [-8.399565e-18]\n",
            "error = [-4.075615e-15]\n",
            "error = [-2.696892e-22]\n",
            "error = [-0.05563684]\n",
            "error = [-1.6601177e-24]\n",
            "error = [-1.6646833e-13]\n",
            "error = [-0.00690252]\n",
            "error = [-0.00573881]\n",
            "error = [-0.00916269]\n",
            "error = [-0.16177237]\n",
            "error = [-0.00254735]\n",
            "error = [-3.7573333e-05]\n",
            "error = [-8.07773e-05]\n",
            "error = [-0.42129904]\n",
            "error = [-2.5128484e-08]\n",
            "error = [-1.9922506e-06]\n",
            "error = [-0.0354039]\n",
            "error = [-0.01868235]\n",
            "error = [-3.79989e-08]\n",
            "error = [-0.00010317]\n",
            "error = [-0.00247289]\n",
            "error = [-7.549655e-07]\n",
            "error = [-1.0839788e-31]\n",
            "error = [-3.2411763e-25]\n",
            "error = [-0.00176403]\n",
            "error = [-1.1545964e-06]\n",
            "error = [-0.11812452]\n",
            "error = [-0.00889832]\n",
            "error = [1.]\n",
            "error = [-9.4353774e-05]\n",
            "error = [-0.02980374]\n",
            "error = [-0.02700537]\n",
            "error = [-9.376924e-05]\n",
            "error = [-0.00169964]\n",
            "error = [0.]\n",
            "error = [-0.16078529]\n",
            "error = [-3.3769747e-22]\n",
            "error = [-0.03289472]\n",
            "error = [-0.00041523]\n",
            "error = [-0.05171615]\n",
            "error = [-0.00089903]\n",
            "error = [-0.05768177]\n",
            "error = [-0.00027085]\n",
            "error = [-1.2024431e-06]\n",
            "error = [-1.7549793e-06]\n",
            "error = [-0.07043505]\n",
            "error = [-6.675818e-06]\n",
            "error = [-1.8056524e-25]\n",
            "error = [-0.08156849]\n",
            "error = [0.88158715]\n",
            "error = [-5.4580394e-16]\n",
            "error = [-0.2132264]\n",
            "error = [-0.00468177]\n",
            "error = [-3.8983694e-07]\n",
            "error = [-0.39666995]\n",
            "error = [-0.00014854]\n",
            "error = [-0.02446777]\n",
            "error = [-3.4597947e-06]\n",
            "error = [-0.00052338]\n",
            "error = [-7.179738e-17]\n",
            "error = [-0.00372251]\n",
            "error = [-0.00033438]\n",
            "error = [-3.0717384e-08]\n",
            "error = [-0.04509151]\n",
            "error = [0.8596149]\n",
            "error = [-0.00645474]\n",
            "error = [-0.01103884]\n",
            "error = [-9.45494e-09]\n",
            "error = [-0.03572809]\n",
            "error = [1.]\n",
            "error = [-1.6235256e-15]\n",
            "error = [-0.30906874]\n",
            "error = [-3.0723077e-05]\n",
            "error = [-8.43122e-10]\n",
            "error = [-4.466099e-26]\n",
            "error = [-7.862681e-06]\n",
            "error = [-0.00176036]\n",
            "error = [-2.136737e-25]\n",
            "error = [-0.03799973]\n",
            "error = [-5.4132414e-08]\n",
            "error = [-0.02938126]\n",
            "error = [-1.11106495e-17]\n",
            "error = [-0.00458519]\n",
            "error = [0.96409196]\n",
            "error = [-0.00137256]\n",
            "error = [0.9296136]\n",
            "error = [-0.01256014]\n",
            "error = [-2.6279792e-26]\n",
            "error = [-2.3277201e-10]\n",
            "error = [-1.9922579e-14]\n",
            "error = [-0.00247185]\n",
            "error = [-0.02471653]\n",
            "error = [-4.769467e-08]\n",
            "error = [-1.947776e-09]\n",
            "error = [-0.04421259]\n",
            "error = [-0.00692806]\n",
            "error = [-1.2322432e-10]\n",
            "error = [-5.7925925e-05]\n",
            "error = [-0.0026084]\n",
            "error = [-3.7429778e-11]\n",
            "error = [-0.3062267]\n",
            "error = [-0.0162805]\n",
            "error = [-0.7976353]\n",
            "error = [-0.21518587]\n",
            "error = [0.7168528]\n",
            "error = [-0.01457651]\n",
            "error = [-0.08060928]\n",
            "error = [-3.829606e-07]\n",
            "error = [-2.2533408e-08]\n",
            "error = [-0.00018868]\n",
            "error = [-0.01627324]\n",
            "error = [-0.00087829]\n",
            "error = [-0.03619006]\n",
            "error = [-3.743566e-21]\n",
            "error = [-0.00106412]\n",
            "error = [-0.00948749]\n",
            "error = [-0.00074248]\n",
            "error = [-2.4818079e-05]\n",
            "error = [-0.00072443]\n",
            "error = [0.99784446]\n",
            "error = [-3.7187363e-07]\n",
            "error = [-1.2661322e-05]\n",
            "error = [-0.0345717]\n",
            "error = [-6.7456135e-06]\n",
            "error = [-7.956712e-09]\n",
            "error = [-0.001534]\n",
            "error = [-1.5191485e-11]\n",
            "error = [-1.1726769e-25]\n",
            "error = [-0.00031634]\n",
            "error = [-8.614027e-13]\n",
            "error = [-0.04768101]\n",
            "error = [-0.02898345]\n",
            "error = [-2.4293127e-05]\n",
            "error = [-0.05458554]\n",
            "error = [-0.04988195]\n",
            "error = [-2.6638665e-05]\n",
            "error = [-0.0026243]\n",
            "error = [-0.00633722]\n",
            "error = [-0.00013785]\n",
            "error = [-4.956884e-07]\n",
            "error = [-5.7700618e-09]\n",
            "error = [-0.00011846]\n",
            "error = [-3.6568923e-05]\n",
            "error = [-0.0847937]\n",
            "error = [-3.0711742e-09]\n",
            "error = [-0.00024653]\n",
            "error = [-0.10262235]\n",
            "error = [0.98345447]\n",
            "error = [-0.0012426]\n",
            "error = [-4.5626095e-15]\n",
            "error = [-0.02804752]\n",
            "error = [-8.7782634e-09]\n",
            "error = [-0.00019314]\n",
            "error = [0.95241046]\n",
            "error = [-1.1620423e-26]\n",
            "error = [-0.0297803]\n",
            "error = [-1.14452105e-05]\n",
            "error = [-0.02518087]\n",
            "error = [-0.05767784]\n",
            "error = [-4.5180583e-05]\n",
            "error = [-8.058679e-12]\n",
            "error = [-0.02633858]\n",
            "error = [-9.298049e-08]\n",
            "error = [-5.3764984e-15]\n",
            "error = [-0.00845659]\n",
            "error = [-0.00246921]\n",
            "error = [-0.00675952]\n",
            "error = [-0.00267654]\n",
            "error = [-0.02157838]\n",
            "error = [-2.3161888e-09]\n",
            "error = [-7.446331e-07]\n",
            "error = [-5.6497905e-12]\n",
            "error = [-4.1330305e-21]\n",
            "error = [-3.6389688e-06]\n",
            "error = [-0.08208994]\n",
            "error = [-0.13595031]\n",
            "error = [-0.35517588]\n",
            "error = [-3.9620325e-14]\n",
            "error = [-0.5005589]\n",
            "error = [-0.00856678]\n",
            "error = [-0.09946486]\n",
            "error = [-0.00166612]\n",
            "error = [-7.1484715e-07]\n",
            "error = [-0.0736974]\n",
            "error = [-0.00323906]\n",
            "error = [0.9952485]\n",
            "error = [-0.37256825]\n",
            "error = [-2.5302015e-07]\n",
            "error = [-0.15332936]\n",
            "error = [-0.02931786]\n",
            "error = [-1.952427e-26]\n",
            "error = [-0.00721156]\n",
            "error = [-7.650156e-21]\n",
            "error = [-0.00178837]\n",
            "error = [-2.6065477e-23]\n",
            "error = [-7.181151e-20]\n",
            "error = [-0.0041637]\n",
            "error = [-0.08639518]\n",
            "error = [-0.00010403]\n",
            "error = [0.8295512]\n",
            "error = [0.8130135]\n",
            "error = [-0.00031615]\n",
            "error = [-4.6011298e-08]\n",
            "error = [-2.6326342e-08]\n",
            "error = [-0.92517185]\n",
            "error = [-3.5028612e-11]\n",
            "error = [-7.1631026e-25]\n",
            "error = [-0.01060149]\n",
            "error = [-0.03280209]\n",
            "error = [-4.507352e-09]\n",
            "error = [-0.10296846]\n",
            "error = [-0.02733369]\n",
            "error = [-0.1852658]\n",
            "error = [-0.07368345]\n",
            "error = [-1.2153553e-06]\n",
            "error = [-7.5541044e-05]\n",
            "error = [-2.7168616e-15]\n",
            "error = [-0.02051082]\n",
            "error = [-0.04537215]\n",
            "error = [-1.1597353e-18]\n",
            "error = [-3.3503517e-07]\n",
            "error = [-0.03412393]\n",
            "error = [-0.1480335]\n",
            "error = [-0.04476329]\n",
            "error = [-7.943769e-22]\n",
            "error = [-0.00420946]\n",
            "error = [-0.00141153]\n",
            "error = [-1.3277618e-08]\n",
            "error = [-0.03316001]\n",
            "error = [-0.00070032]\n",
            "error = [-0.0006386]\n",
            "error = [-7.8349024e-07]\n",
            "error = [-0.01514446]\n",
            "error = [-3.6193805e-18]\n",
            "error = [-0.00173609]\n",
            "error = [-0.05088086]\n",
            "error = [-0.0013952]\n",
            "error = [-3.860339e-20]\n",
            "error = [-0.01593865]\n",
            "error = [-4.5187114e-14]\n",
            "error = [-0.01650429]\n",
            "error = [-9.16651e-16]\n",
            "error = [-0.10074351]\n",
            "error = [-7.684981e-16]\n",
            "error = [-0.0577676]\n",
            "error = [0.00087851]\n",
            "error = [-9.71395e-16]\n",
            "error = [-0.00017236]\n",
            "error = [-0.00679396]\n",
            "error = [-0.00192759]\n",
            "error = [-0.21396074]\n",
            "error = [-0.00033252]\n",
            "error = [-3.2188778e-23]\n",
            "error = [-0.009788]\n",
            "error = [-8.6011664e-07]\n",
            "error = [-3.0248188e-05]\n",
            "error = [-0.00181912]\n",
            "error = [-1.6834424e-28]\n",
            "error = [0.98760635]\n",
            "error = [-2.7703984e-27]\n",
            "error = [-0.03614048]\n",
            "error = [-9.420112e-05]\n",
            "error = [-0.00014882]\n",
            "error = [-0.00686189]\n",
            "error = [-5.423996e-07]\n",
            "error = [-0.0619926]\n",
            "error = [-6.0045873e-05]\n",
            "error = [0.69839]\n",
            "error = [-4.419484e-05]\n",
            "error = [-0.07903402]\n",
            "error = [-0.00650567]\n",
            "error = [-0.00746259]\n",
            "error = [-0.10204197]\n",
            "error = [-0.00027984]\n",
            "error = [-1.1143883e-05]\n",
            "error = [-0.00065132]\n",
            "error = [-0.14275673]\n",
            "error = [-0.00247135]\n",
            "error = [-0.00038847]\n",
            "error = [-0.01261696]\n",
            "error = [-0.00109019]\n",
            "error = [-0.00632324]\n",
            "error = [-1.5993847e-24]\n",
            "error = [-7.8176396e-07]\n",
            "error = [1.]\n",
            "error = [-0.00489281]\n",
            "error = [-9.876263e-23]\n",
            "error = [-5.887427e-16]\n",
            "error = [0.74781096]\n",
            "error = [-0.00842323]\n",
            "error = [-0.00294266]\n",
            "error = [-1.0928977e-08]\n",
            "error = [-0.07943002]\n",
            "error = [-2.9778704e-17]\n",
            "error = [-0.00547762]\n",
            "error = [-0.01783783]\n",
            "error = [-0.05781141]\n",
            "error = [-6.9638706e-10]\n",
            "error = [-4.3500813e-25]\n",
            "error = [-0.01442893]\n",
            "error = [-2.2595833e-25]\n",
            "error = [-0.00146801]\n",
            "error = [-8.06099e-22]\n",
            "error = [-1.4556564e-24]\n",
            "error = [-0.00188823]\n",
            "error = [-4.9411585e-21]\n",
            "error = [-4.7893127e-06]\n",
            "error = [-6.3694374e-06]\n",
            "error = [-5.4682855e-06]\n",
            "error = [-0.17869635]\n",
            "error = [-0.7785963]\n",
            "error = [-0.00032546]\n",
            "error = [-0.06268853]\n",
            "error = [-3.8738457e-05]\n",
            "error = [-1.0654047e-22]\n",
            "error = [-0.02678065]\n",
            "error = [-0.00242609]\n",
            "error = [-4.5440818e-20]\n",
            "error = [-3.7401708e-20]\n",
            "error = [-4.453207e-07]\n",
            "error = [-1.1047854e-23]\n",
            "error = [-0.00042525]\n",
            "error = [-2.9145198e-13]\n",
            "error = [-8.7289635e-08]\n",
            "error = [-0.12782015]\n",
            "error = [-5.1528644e-23]\n",
            "error = [-7.565616e-06]\n",
            "error = [-0.00091221]\n",
            "error = [-5.699473e-26]\n",
            "error = [-1.4068971e-19]\n",
            "error = [-0.00681019]\n",
            "error = [-5.9033435e-05]\n",
            "error = [-0.17626134]\n",
            "error = [-0.05078009]\n",
            "error = [-0.04234323]\n",
            "error = [-0.03164689]\n",
            "error = [-9.4761905e-09]\n",
            "error = [-3.0579333e-06]\n",
            "error = [-1.0541438e-07]\n",
            "error = [-0.32317844]\n",
            "error = [-1.5789128e-17]\n",
            "error = [-0.0001539]\n",
            "error = [-7.5537827e-07]\n",
            "error = [-1.4972191e-09]\n",
            "error = [-1.6832143e-17]\n",
            "error = [-2.2852413e-05]\n",
            "error = [-0.00143208]\n",
            "error = [-6.3253504e-13]\n",
            "error = [-5.79673e-22]\n",
            "error = [-0.00899674]\n",
            "error = [-0.02216498]\n",
            "error = [-0.00160005]\n",
            "error = [-9.3829425e-05]\n",
            "error = [-0.0252445]\n",
            "error = [-2.6756376e-23]\n",
            "error = [-0.10001457]\n",
            "error = [-7.5374976e-07]\n",
            "error = [-0.7403979]\n",
            "error = [-0.0005542]\n",
            "error = [-4.8958654e-10]\n",
            "error = [-0.00034773]\n",
            "error = [-0.00707964]\n",
            "error = [-0.17516068]\n",
            "error = [-0.00029527]\n",
            "error = [-4.404414e-18]\n",
            "error = [-1.3159656e-22]\n",
            "error = [-0.02295341]\n",
            "error = [-1.4975842e-17]\n",
            "error = [-0.00513376]\n",
            "error = [-0.00240578]\n",
            "error = [-0.00091125]\n",
            "error = [-8.0296814e-23]\n",
            "error = [-1.734406e-05]\n",
            "error = [-0.0343157]\n",
            "error = [-1.8034551e-19]\n",
            "error = [-0.04020824]\n",
            "error = [-2.541692e-06]\n",
            "error = [-6.709179e-23]\n",
            "error = [-8.421903e-24]\n",
            "error = [-7.684991e-05]\n",
            "error = [0.9878417]\n",
            "error = [-2.5447088e-07]\n",
            "error = [-3.1868425e-23]\n",
            "error = [-7.238707e-15]\n",
            "error = [-0.02361636]\n",
            "error = [-2.6766587e-23]\n",
            "error = [-0.00276224]\n",
            "error = [-3.512636e-06]\n",
            "error = [-0.03423401]\n",
            "error = [-5.7617444e-10]\n",
            "error = [-0.58402306]\n",
            "error = [-0.03233247]\n",
            "error = [-6.3685156e-18]\n",
            "error = [-7.51318e-15]\n",
            "error = [-2.749201e-08]\n",
            "error = [-0.00629753]\n",
            "error = [-0.00032595]\n",
            "error = [-0.00436875]\n",
            "error = [-9.832309e-10]\n",
            "error = [0.9686374]\n",
            "error = [-4.451619e-07]\n",
            "error = [-8.978993e-25]\n",
            "error = [-6.270817e-05]\n",
            "error = [-2.082797e-05]\n",
            "error = [-0.01273012]\n",
            "error = [-2.3021685e-10]\n",
            "error = [0.9536141]\n",
            "error = [-0.03031898]\n",
            "error = [-0.02625227]\n",
            "error = [-2.9271822e-21]\n",
            "error = [-0.01007743]\n",
            "error = [-0.00016531]\n",
            "error = [-4.7277733e-17]\n",
            "error = [-0.02077494]\n",
            "error = [-3.6903684e-20]\n",
            "error = [-5.215181e-10]\n",
            "error = [-0.0013693]\n",
            "error = [0.9936095]\n",
            "error = [-0.05592516]\n",
            "error = [-0.05121418]\n",
            "error = [-2.0427184e-18]\n",
            "error = [-0.02921444]\n",
            "error = [-0.08691024]\n",
            "error = [-0.00329372]\n",
            "error = [-0.20259367]\n",
            "error = [-8.180259e-09]\n",
            "error = [-2.3487403e-09]\n",
            "error = [-0.03435794]\n",
            "error = [-0.00578309]\n",
            "error = [-0.9072132]\n",
            "error = [-0.00214986]\n",
            "error = [-0.00036269]\n",
            "error = [-2.5584482e-35]\n",
            "error = [0.9860499]\n",
            "error = [-5.035013e-24]\n",
            "error = [-5.732605e-15]\n",
            "error = [-4.709422e-06]\n",
            "error = [-0.0004036]\n",
            "error = [-0.00044386]\n",
            "error = [-0.13691555]\n",
            "error = [-0.01794568]\n",
            "error = [-7.096246e-08]\n",
            "error = [-0.01708708]\n",
            "error = [-0.01981299]\n",
            "error = [-0.04857105]\n",
            "error = [0.75884134]\n"
          ],
          "name": "stdout"
        }
      ]
    }
  ]
}